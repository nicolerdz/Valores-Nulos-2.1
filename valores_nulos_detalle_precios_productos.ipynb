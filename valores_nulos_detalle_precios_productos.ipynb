{
  "nbformat": 4,
  "nbformat_minor": 0,
  "metadata": {
    "colab": {
      "provenance": [],
      "authorship_tag": "ABX9TyMUsEGtNtv3cNmaRmDXEoGr",
      "include_colab_link": true
    },
    "kernelspec": {
      "name": "python3",
      "display_name": "Python 3"
    },
    "language_info": {
      "name": "python"
    }
  },
  "cells": [
    {
      "cell_type": "markdown",
      "metadata": {
        "id": "view-in-github",
        "colab_type": "text"
      },
      "source": [
        "<a href=\"https://colab.research.google.com/github/nicolerdz/Valores-Nulos-2.1/blob/main/valores_nulos_detalle_precios_productos.ipynb\" target=\"_parent\"><img src=\"https://colab.research.google.com/assets/colab-badge.svg\" alt=\"Open In Colab\"/></a>"
      ]
    },
    {
      "cell_type": "markdown",
      "source": [
        "# **Valores nulos detalle precios productos**\n",
        "**Equipo:**\n",
        "\n",
        "Andrea Cosset Hernández Lugo A01707744\n",
        "\n",
        "Nicole Aryam Rodríguez A00831569\n",
        "\n",
        "Natalia María Ovando Flores A01368118\n",
        "\n",
        "Lucía Castañeda Medeguín A01706644"
      ],
      "metadata": {
        "id": "327TWQrGUhWa"
      }
    },
    {
      "cell_type": "code",
      "execution_count": 1,
      "metadata": {
        "id": "HHRKbNLeQymV"
      },
      "outputs": [],
      "source": [
        "import pandas as pd\n",
        "import numpy as np\n",
        "import matplotlib.pyplot as plt\n",
        "import seaborn as sns"
      ]
    },
    {
      "cell_type": "code",
      "source": [
        "from google.colab import files\n",
        "files.upload()"
      ],
      "metadata": {
        "id": "YIHnrRr4RC6L"
      },
      "execution_count": null,
      "outputs": []
    },
    {
      "cell_type": "code",
      "source": [
        "data= pd.read_excel('Detalle precios y productos fabricados 2022.xlsx')"
      ],
      "metadata": {
        "id": "QK6BHPPvRIrP"
      },
      "execution_count": 3,
      "outputs": []
    },
    {
      "cell_type": "code",
      "source": [
        "data.info()"
      ],
      "metadata": {
        "colab": {
          "base_uri": "https://localhost:8080/"
        },
        "id": "0mjNBCdWROa_",
        "outputId": "a27a3c38-ba84-47bd-8502-614219e0a282"
      },
      "execution_count": 4,
      "outputs": [
        {
          "output_type": "stream",
          "name": "stdout",
          "text": [
            "<class 'pandas.core.frame.DataFrame'>\n",
            "RangeIndex: 1426 entries, 0 to 1425\n",
            "Data columns (total 14 columns):\n",
            " #   Column                     Non-Null Count  Dtype         \n",
            "---  ------                     --------------  -----         \n",
            " 0   CVE_DOC                    1426 non-null   object        \n",
            " 1   FECHA_DOC                  1426 non-null   datetime64[ns]\n",
            " 2   NOMBRE_VENDEDOR            1424 non-null   object        \n",
            " 3   NOMBRE_CLIENTE             1426 non-null   object        \n",
            " 4   CANT                       1426 non-null   int64         \n",
            " 5   CVE_ART                    1426 non-null   object        \n",
            " 6   DESCR                      1426 non-null   object        \n",
            " 7   PRECIO_UNITARIO            1426 non-null   float64       \n",
            " 8   COSTO_UNITARIO             1426 non-null   float64       \n",
            " 9   COSTO_UNITARIO_CALCULADO   1426 non-null   float64       \n",
            " 10  SUBTOTAL_PARTIDA           1426 non-null   float64       \n",
            " 11  COSTO_TOTAL_CALCULADO      1426 non-null   float64       \n",
            " 12  MARGEN_UNITARIO_CALCULADO  1426 non-null   float64       \n",
            " 13  MARGEN_TOTAL_CALCULADO     1426 non-null   float64       \n",
            "dtypes: datetime64[ns](1), float64(7), int64(1), object(5)\n",
            "memory usage: 156.1+ KB\n"
          ]
        }
      ]
    },
    {
      "cell_type": "code",
      "source": [
        "data.head(5)"
      ],
      "metadata": {
        "colab": {
          "base_uri": "https://localhost:8080/",
          "height": 426
        },
        "id": "NcEvY5eYRUOT",
        "outputId": "2de3a18e-2aa3-4489-ba4a-3835ddfcf875"
      },
      "execution_count": 5,
      "outputs": [
        {
          "output_type": "execute_result",
          "data": {
            "text/plain": [
              "  CVE_DOC  FECHA_DOC            NOMBRE_VENDEDOR                NOMBRE_CLIENTE  \\\n",
              "0  F37034 2022-01-05  LETICIA RAMIREZ HERNANDEZ            PÚBLICO EN GENERAL   \n",
              "1  F37036 2022-01-05  LETICIA RAMIREZ HERNANDEZ  JUAN ANTONIO RESENDIZ UGALDE   \n",
              "2  F37041 2022-01-05   DIEGO ARMANDO LEON DURAN     ANA BARBARA CRUZ PALACIOS   \n",
              "3  F37042 2022-01-05   DIEGO ARMANDO LEON DURAN          OMAR RODRIGUEZ GOMEZ   \n",
              "4  F37043 2022-01-05  LETICIA RAMIREZ HERNANDEZ            PÚBLICO EN GENERAL   \n",
              "\n",
              "   CANT   CVE_ART                                    DESCR  PRECIO_UNITARIO  \\\n",
              "0     1  TUE00244  TUB COBRE 5/16\"ØX165MM CIRCULA1.5KW127V           434.48   \n",
              "1     1  TUA00028  TUA U\" 5/16 ØX250MM 1200W 120V TAP1\"NPT          1264.05   \n",
              "2     7    TP0007     TERMOPAR J 3/16 Ø X 1' 1/2 EXT. 7 MT           551.61   \n",
              "3     1    TP0001     TERMOPAR J 3/16 Ø X 1' 1/2 EXT. 1 MT           140.00   \n",
              "4     2   BP00242  BAN P INOX 115MMX235MM 1000W 127V T/TOR           172.41   \n",
              "\n",
              "   COSTO_UNITARIO  COSTO_UNITARIO_CALCULADO  SUBTOTAL_PARTIDA  \\\n",
              "0           52.80                     52.80            434.48   \n",
              "1          327.18                    327.18           1264.05   \n",
              "2          177.68                    177.68           3861.29   \n",
              "3           38.96                     38.96            140.00   \n",
              "4          101.71                    101.71            344.83   \n",
              "\n",
              "   COSTO_TOTAL_CALCULADO  MARGEN_UNITARIO_CALCULADO  MARGEN_TOTAL_CALCULADO  \n",
              "0                  52.80                     381.68                  381.68  \n",
              "1                 327.18                     936.87                  936.87  \n",
              "2                1243.73                     373.94                 2617.56  \n",
              "3                  38.96                     101.04                  101.04  \n",
              "4                 203.42                      70.71                  141.41  "
            ],
            "text/html": [
              "\n",
              "  <div id=\"df-c78e86b4-4440-4fa9-899f-b61e55e4372b\">\n",
              "    <div class=\"colab-df-container\">\n",
              "      <div>\n",
              "<style scoped>\n",
              "    .dataframe tbody tr th:only-of-type {\n",
              "        vertical-align: middle;\n",
              "    }\n",
              "\n",
              "    .dataframe tbody tr th {\n",
              "        vertical-align: top;\n",
              "    }\n",
              "\n",
              "    .dataframe thead th {\n",
              "        text-align: right;\n",
              "    }\n",
              "</style>\n",
              "<table border=\"1\" class=\"dataframe\">\n",
              "  <thead>\n",
              "    <tr style=\"text-align: right;\">\n",
              "      <th></th>\n",
              "      <th>CVE_DOC</th>\n",
              "      <th>FECHA_DOC</th>\n",
              "      <th>NOMBRE_VENDEDOR</th>\n",
              "      <th>NOMBRE_CLIENTE</th>\n",
              "      <th>CANT</th>\n",
              "      <th>CVE_ART</th>\n",
              "      <th>DESCR</th>\n",
              "      <th>PRECIO_UNITARIO</th>\n",
              "      <th>COSTO_UNITARIO</th>\n",
              "      <th>COSTO_UNITARIO_CALCULADO</th>\n",
              "      <th>SUBTOTAL_PARTIDA</th>\n",
              "      <th>COSTO_TOTAL_CALCULADO</th>\n",
              "      <th>MARGEN_UNITARIO_CALCULADO</th>\n",
              "      <th>MARGEN_TOTAL_CALCULADO</th>\n",
              "    </tr>\n",
              "  </thead>\n",
              "  <tbody>\n",
              "    <tr>\n",
              "      <th>0</th>\n",
              "      <td>F37034</td>\n",
              "      <td>2022-01-05</td>\n",
              "      <td>LETICIA RAMIREZ HERNANDEZ</td>\n",
              "      <td>PÚBLICO EN GENERAL</td>\n",
              "      <td>1</td>\n",
              "      <td>TUE00244</td>\n",
              "      <td>TUB COBRE 5/16\"ØX165MM CIRCULA1.5KW127V</td>\n",
              "      <td>434.48</td>\n",
              "      <td>52.80</td>\n",
              "      <td>52.80</td>\n",
              "      <td>434.48</td>\n",
              "      <td>52.80</td>\n",
              "      <td>381.68</td>\n",
              "      <td>381.68</td>\n",
              "    </tr>\n",
              "    <tr>\n",
              "      <th>1</th>\n",
              "      <td>F37036</td>\n",
              "      <td>2022-01-05</td>\n",
              "      <td>LETICIA RAMIREZ HERNANDEZ</td>\n",
              "      <td>JUAN ANTONIO RESENDIZ UGALDE</td>\n",
              "      <td>1</td>\n",
              "      <td>TUA00028</td>\n",
              "      <td>TUA U\" 5/16 ØX250MM 1200W 120V TAP1\"NPT</td>\n",
              "      <td>1264.05</td>\n",
              "      <td>327.18</td>\n",
              "      <td>327.18</td>\n",
              "      <td>1264.05</td>\n",
              "      <td>327.18</td>\n",
              "      <td>936.87</td>\n",
              "      <td>936.87</td>\n",
              "    </tr>\n",
              "    <tr>\n",
              "      <th>2</th>\n",
              "      <td>F37041</td>\n",
              "      <td>2022-01-05</td>\n",
              "      <td>DIEGO ARMANDO LEON DURAN</td>\n",
              "      <td>ANA BARBARA CRUZ PALACIOS</td>\n",
              "      <td>7</td>\n",
              "      <td>TP0007</td>\n",
              "      <td>TERMOPAR J 3/16 Ø X 1' 1/2 EXT. 7 MT</td>\n",
              "      <td>551.61</td>\n",
              "      <td>177.68</td>\n",
              "      <td>177.68</td>\n",
              "      <td>3861.29</td>\n",
              "      <td>1243.73</td>\n",
              "      <td>373.94</td>\n",
              "      <td>2617.56</td>\n",
              "    </tr>\n",
              "    <tr>\n",
              "      <th>3</th>\n",
              "      <td>F37042</td>\n",
              "      <td>2022-01-05</td>\n",
              "      <td>DIEGO ARMANDO LEON DURAN</td>\n",
              "      <td>OMAR RODRIGUEZ GOMEZ</td>\n",
              "      <td>1</td>\n",
              "      <td>TP0001</td>\n",
              "      <td>TERMOPAR J 3/16 Ø X 1' 1/2 EXT. 1 MT</td>\n",
              "      <td>140.00</td>\n",
              "      <td>38.96</td>\n",
              "      <td>38.96</td>\n",
              "      <td>140.00</td>\n",
              "      <td>38.96</td>\n",
              "      <td>101.04</td>\n",
              "      <td>101.04</td>\n",
              "    </tr>\n",
              "    <tr>\n",
              "      <th>4</th>\n",
              "      <td>F37043</td>\n",
              "      <td>2022-01-05</td>\n",
              "      <td>LETICIA RAMIREZ HERNANDEZ</td>\n",
              "      <td>PÚBLICO EN GENERAL</td>\n",
              "      <td>2</td>\n",
              "      <td>BP00242</td>\n",
              "      <td>BAN P INOX 115MMX235MM 1000W 127V T/TOR</td>\n",
              "      <td>172.41</td>\n",
              "      <td>101.71</td>\n",
              "      <td>101.71</td>\n",
              "      <td>344.83</td>\n",
              "      <td>203.42</td>\n",
              "      <td>70.71</td>\n",
              "      <td>141.41</td>\n",
              "    </tr>\n",
              "  </tbody>\n",
              "</table>\n",
              "</div>\n",
              "      <button class=\"colab-df-convert\" onclick=\"convertToInteractive('df-c78e86b4-4440-4fa9-899f-b61e55e4372b')\"\n",
              "              title=\"Convert this dataframe to an interactive table.\"\n",
              "              style=\"display:none;\">\n",
              "        \n",
              "  <svg xmlns=\"http://www.w3.org/2000/svg\" height=\"24px\"viewBox=\"0 0 24 24\"\n",
              "       width=\"24px\">\n",
              "    <path d=\"M0 0h24v24H0V0z\" fill=\"none\"/>\n",
              "    <path d=\"M18.56 5.44l.94 2.06.94-2.06 2.06-.94-2.06-.94-.94-2.06-.94 2.06-2.06.94zm-11 1L8.5 8.5l.94-2.06 2.06-.94-2.06-.94L8.5 2.5l-.94 2.06-2.06.94zm10 10l.94 2.06.94-2.06 2.06-.94-2.06-.94-.94-2.06-.94 2.06-2.06.94z\"/><path d=\"M17.41 7.96l-1.37-1.37c-.4-.4-.92-.59-1.43-.59-.52 0-1.04.2-1.43.59L10.3 9.45l-7.72 7.72c-.78.78-.78 2.05 0 2.83L4 21.41c.39.39.9.59 1.41.59.51 0 1.02-.2 1.41-.59l7.78-7.78 2.81-2.81c.8-.78.8-2.07 0-2.86zM5.41 20L4 18.59l7.72-7.72 1.47 1.35L5.41 20z\"/>\n",
              "  </svg>\n",
              "      </button>\n",
              "      \n",
              "  <style>\n",
              "    .colab-df-container {\n",
              "      display:flex;\n",
              "      flex-wrap:wrap;\n",
              "      gap: 12px;\n",
              "    }\n",
              "\n",
              "    .colab-df-convert {\n",
              "      background-color: #E8F0FE;\n",
              "      border: none;\n",
              "      border-radius: 50%;\n",
              "      cursor: pointer;\n",
              "      display: none;\n",
              "      fill: #1967D2;\n",
              "      height: 32px;\n",
              "      padding: 0 0 0 0;\n",
              "      width: 32px;\n",
              "    }\n",
              "\n",
              "    .colab-df-convert:hover {\n",
              "      background-color: #E2EBFA;\n",
              "      box-shadow: 0px 1px 2px rgba(60, 64, 67, 0.3), 0px 1px 3px 1px rgba(60, 64, 67, 0.15);\n",
              "      fill: #174EA6;\n",
              "    }\n",
              "\n",
              "    [theme=dark] .colab-df-convert {\n",
              "      background-color: #3B4455;\n",
              "      fill: #D2E3FC;\n",
              "    }\n",
              "\n",
              "    [theme=dark] .colab-df-convert:hover {\n",
              "      background-color: #434B5C;\n",
              "      box-shadow: 0px 1px 3px 1px rgba(0, 0, 0, 0.15);\n",
              "      filter: drop-shadow(0px 1px 2px rgba(0, 0, 0, 0.3));\n",
              "      fill: #FFFFFF;\n",
              "    }\n",
              "  </style>\n",
              "\n",
              "      <script>\n",
              "        const buttonEl =\n",
              "          document.querySelector('#df-c78e86b4-4440-4fa9-899f-b61e55e4372b button.colab-df-convert');\n",
              "        buttonEl.style.display =\n",
              "          google.colab.kernel.accessAllowed ? 'block' : 'none';\n",
              "\n",
              "        async function convertToInteractive(key) {\n",
              "          const element = document.querySelector('#df-c78e86b4-4440-4fa9-899f-b61e55e4372b');\n",
              "          const dataTable =\n",
              "            await google.colab.kernel.invokeFunction('convertToInteractive',\n",
              "                                                     [key], {});\n",
              "          if (!dataTable) return;\n",
              "\n",
              "          const docLinkHtml = 'Like what you see? Visit the ' +\n",
              "            '<a target=\"_blank\" href=https://colab.research.google.com/notebooks/data_table.ipynb>data table notebook</a>'\n",
              "            + ' to learn more about interactive tables.';\n",
              "          element.innerHTML = '';\n",
              "          dataTable['output_type'] = 'display_data';\n",
              "          await google.colab.output.renderOutput(dataTable, element);\n",
              "          const docLink = document.createElement('div');\n",
              "          docLink.innerHTML = docLinkHtml;\n",
              "          element.appendChild(docLink);\n",
              "        }\n",
              "      </script>\n",
              "    </div>\n",
              "  </div>\n",
              "  "
            ]
          },
          "metadata": {},
          "execution_count": 5
        }
      ]
    },
    {
      "cell_type": "code",
      "source": [
        "valores_nulos = data.isnull().sum()\n",
        "valores_nulos"
      ],
      "metadata": {
        "colab": {
          "base_uri": "https://localhost:8080/"
        },
        "id": "YBfDxTFjSXgP",
        "outputId": "99609b97-8aa4-48ce-d5ad-b621ebdab506"
      },
      "execution_count": 6,
      "outputs": [
        {
          "output_type": "execute_result",
          "data": {
            "text/plain": [
              "CVE_DOC                      0\n",
              "FECHA_DOC                    0\n",
              "NOMBRE_VENDEDOR              2\n",
              "NOMBRE_CLIENTE               0\n",
              "CANT                         0\n",
              "CVE_ART                      0\n",
              "DESCR                        0\n",
              "PRECIO_UNITARIO              0\n",
              "COSTO_UNITARIO               0\n",
              "COSTO_UNITARIO_CALCULADO     0\n",
              "SUBTOTAL_PARTIDA             0\n",
              "COSTO_TOTAL_CALCULADO        0\n",
              "MARGEN_UNITARIO_CALCULADO    0\n",
              "MARGEN_TOTAL_CALCULADO       0\n",
              "dtype: int64"
            ]
          },
          "metadata": {},
          "execution_count": 6
        }
      ]
    },
    {
      "cell_type": "code",
      "source": [
        "valores_nulos = data.isnull().sum().sum()\n",
        "valores_nulos"
      ],
      "metadata": {
        "colab": {
          "base_uri": "https://localhost:8080/"
        },
        "id": "bNpl5uK8Sc1B",
        "outputId": "0dcb7b2d-b2d9-4071-827f-33f0a051f27e"
      },
      "execution_count": 7,
      "outputs": [
        {
          "output_type": "execute_result",
          "data": {
            "text/plain": [
              "2"
            ]
          },
          "metadata": {},
          "execution_count": 7
        }
      ]
    },
    {
      "cell_type": "code",
      "source": [
        "data2= data.copy()"
      ],
      "metadata": {
        "id": "BLvn6VHpSghk"
      },
      "execution_count": 8,
      "outputs": []
    },
    {
      "cell_type": "code",
      "source": [
        "data2['NOMBRE_VENDEDOR'].value_counts()"
      ],
      "metadata": {
        "colab": {
          "base_uri": "https://localhost:8080/"
        },
        "id": "FqzTXthUTV0w",
        "outputId": "db57497a-25e2-4081-a45f-1d709526bb55"
      },
      "execution_count": 13,
      "outputs": [
        {
          "output_type": "execute_result",
          "data": {
            "text/plain": [
              "LETICIA RAMIREZ HERNANDEZ    897\n",
              "ALFREDO CANELA               335\n",
              "DIEGO ARMANDO LEON DURAN     120\n",
              "AARON NUÑO CORDOVA            72\n",
              "ATENCION A CLIENTES            2\n",
              "Name: NOMBRE_VENDEDOR, dtype: int64"
            ]
          },
          "metadata": {},
          "execution_count": 13
        }
      ]
    },
    {
      "cell_type": "code",
      "source": [
        "moda = data2['NOMBRE_VENDEDOR'].mode()[0]"
      ],
      "metadata": {
        "id": "Ftdx_YowTrjt"
      },
      "execution_count": 15,
      "outputs": []
    },
    {
      "cell_type": "code",
      "source": [
        "# SE RELLENARON LOS VALORES NULOS DE ESTA COLUMNA CON EL LA MODA DE ESTA COLUMNA QUE EN ESTE CASO ES LETICIA RAMIREZ HERNANDEZ, YA QUE ESTA TIENE UN MAYOR PORCENTAJE EN CUANTO A VENTAS Y ES MAS PROBABLE QUE ELLA HAYA REALIZADO ESTA VENTA\n",
        "data2['NOMBRE_VENDEDOR'] = data2['NOMBRE_VENDEDOR'].fillna(moda)"
      ],
      "metadata": {
        "id": "3ffHqBPLSnrl"
      },
      "execution_count": 17,
      "outputs": []
    },
    {
      "cell_type": "code",
      "source": [
        "valores_nulos = data2.isnull().sum()\n",
        "valores_nulos"
      ],
      "metadata": {
        "colab": {
          "base_uri": "https://localhost:8080/"
        },
        "id": "DWsepOG9SyPh",
        "outputId": "6329d187-5706-4de8-e0c3-a3dd81ae6cbd"
      },
      "execution_count": 18,
      "outputs": [
        {
          "output_type": "execute_result",
          "data": {
            "text/plain": [
              "CVE_DOC                      0\n",
              "FECHA_DOC                    0\n",
              "NOMBRE_VENDEDOR              0\n",
              "NOMBRE_CLIENTE               0\n",
              "CANT                         0\n",
              "CVE_ART                      0\n",
              "DESCR                        0\n",
              "PRECIO_UNITARIO              0\n",
              "COSTO_UNITARIO               0\n",
              "COSTO_UNITARIO_CALCULADO     0\n",
              "SUBTOTAL_PARTIDA             0\n",
              "COSTO_TOTAL_CALCULADO        0\n",
              "MARGEN_UNITARIO_CALCULADO    0\n",
              "MARGEN_TOTAL_CALCULADO       0\n",
              "dtype: int64"
            ]
          },
          "metadata": {},
          "execution_count": 18
        }
      ]
    },
    {
      "cell_type": "code",
      "source": [
        "data2.to_csv('precios_sin_nulos.csv')"
      ],
      "metadata": {
        "id": "UEQzP2FPUGCx"
      },
      "execution_count": 19,
      "outputs": []
    },
    {
      "cell_type": "code",
      "source": [
        "from google.colab import files \n",
        "  \n",
        "files.download(\"precios_sin_nulos.csv\")"
      ],
      "metadata": {
        "colab": {
          "base_uri": "https://localhost:8080/",
          "height": 17
        },
        "id": "IUsPc-HGULyT",
        "outputId": "a1ecf59d-5452-4b75-f7eb-2c929ab11dda"
      },
      "execution_count": 20,
      "outputs": [
        {
          "output_type": "display_data",
          "data": {
            "text/plain": [
              "<IPython.core.display.Javascript object>"
            ],
            "application/javascript": [
              "\n",
              "    async function download(id, filename, size) {\n",
              "      if (!google.colab.kernel.accessAllowed) {\n",
              "        return;\n",
              "      }\n",
              "      const div = document.createElement('div');\n",
              "      const label = document.createElement('label');\n",
              "      label.textContent = `Downloading \"${filename}\": `;\n",
              "      div.appendChild(label);\n",
              "      const progress = document.createElement('progress');\n",
              "      progress.max = size;\n",
              "      div.appendChild(progress);\n",
              "      document.body.appendChild(div);\n",
              "\n",
              "      const buffers = [];\n",
              "      let downloaded = 0;\n",
              "\n",
              "      const channel = await google.colab.kernel.comms.open(id);\n",
              "      // Send a message to notify the kernel that we're ready.\n",
              "      channel.send({})\n",
              "\n",
              "      for await (const message of channel.messages) {\n",
              "        // Send a message to notify the kernel that we're ready.\n",
              "        channel.send({})\n",
              "        if (message.buffers) {\n",
              "          for (const buffer of message.buffers) {\n",
              "            buffers.push(buffer);\n",
              "            downloaded += buffer.byteLength;\n",
              "            progress.value = downloaded;\n",
              "          }\n",
              "        }\n",
              "      }\n",
              "      const blob = new Blob(buffers, {type: 'application/binary'});\n",
              "      const a = document.createElement('a');\n",
              "      a.href = window.URL.createObjectURL(blob);\n",
              "      a.download = filename;\n",
              "      div.appendChild(a);\n",
              "      a.click();\n",
              "      div.remove();\n",
              "    }\n",
              "  "
            ]
          },
          "metadata": {}
        },
        {
          "output_type": "display_data",
          "data": {
            "text/plain": [
              "<IPython.core.display.Javascript object>"
            ],
            "application/javascript": [
              "download(\"download_2065c3b9-0de0-4f28-abe9-0e70b0ebc50e\", \"precios_sin_nulos.csv\", 243426)"
            ]
          },
          "metadata": {}
        }
      ]
    }
  ]
}