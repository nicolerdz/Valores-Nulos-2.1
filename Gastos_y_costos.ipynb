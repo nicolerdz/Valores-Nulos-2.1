{
  "nbformat": 4,
  "nbformat_minor": 0,
  "metadata": {
    "colab": {
      "provenance": [],
      "include_colab_link": true
    },
    "kernelspec": {
      "name": "python3",
      "display_name": "Python 3"
    },
    "language_info": {
      "name": "python"
    }
  },
  "cells": [
    {
      "cell_type": "markdown",
      "metadata": {
        "id": "view-in-github",
        "colab_type": "text"
      },
      "source": [
        "<a href=\"https://colab.research.google.com/github/nicolerdz/Valores-Nulos-2.1/blob/main/Gastos_y_costos.ipynb\" target=\"_parent\"><img src=\"https://colab.research.google.com/assets/colab-badge.svg\" alt=\"Open In Colab\"/></a>"
      ]
    },
    {
      "cell_type": "markdown",
      "source": [
        "# Gastos y costos\n",
        "\n",
        "**Equipo:**\n",
        "\n",
        "Andrea Cosset Hernández Lugo A01707744\n",
        "\n",
        "Nicole Aryam Rodríguez A00831569\n",
        "\n",
        "Natalia María Ovando Flores A01368118\n",
        "\n",
        "Lucía Castañeda Medeguín A01706644"
      ],
      "metadata": {
        "id": "5oai8672aOuF"
      }
    },
    {
      "cell_type": "code",
      "execution_count": null,
      "metadata": {
        "id": "nVmUdMye-2LC"
      },
      "outputs": [],
      "source": [
        "#Importamos las librerias pandas, numpy y matplotlib respectivamente\n",
        "import pandas as pd\n",
        "import numpy as np\n",
        "import matplotlib.pyplot as plt"
      ]
    },
    {
      "cell_type": "markdown",
      "source": [
        "**VALORES NULOS**"
      ],
      "metadata": {
        "id": "ppkIN7YD9OCO"
      }
    },
    {
      "cell_type": "code",
      "source": [
        "#Cargar archivo csv desde equipo\n",
        "from google.colab import files\n",
        "files.upload()"
      ],
      "metadata": {
        "id": "SJqO09PDA0lS"
      },
      "execution_count": null,
      "outputs": []
    },
    {
      "cell_type": "markdown",
      "source": [
        "# 2020"
      ],
      "metadata": {
        "id": "eCeThzzzaGu0"
      }
    },
    {
      "cell_type": "code",
      "source": [
        "#Carga desde un archivo\n",
        "gastosycostos2020= pd.read_excel('Gastos y costos 20-23.xlsx', sheet_name='2020',)\n",
        "gastosycostos2020"
      ],
      "metadata": {
        "id": "ju4zTK1qA7Zb",
        "colab": {
          "base_uri": "https://localhost:8080/",
          "height": 1000
        },
        "outputId": "e451e1d0-d0cf-4b0f-fd7d-469e57e02709"
      },
      "execution_count": null,
      "outputs": [
        {
          "output_type": "execute_result",
          "data": {
            "text/plain": [
              "          FECHA                   FOLIO                                  UUID  \\\n",
              "0    2020-01-01                   39408  BD20F436-72CC-4BE2-AD37-5999D71AA391   \n",
              "1    2020-01-01  0001010100750847116902  85AEAC2E-6395-44A0-9CB9-754D06893375   \n",
              "2    2020-01-01  0001010100752163714102  BD0DFE85-D776-41CB-9C5C-4FA7923E687A   \n",
              "3    2020-01-01                    3663  EF4504D6-830D-415C-AF03-80CF54C5E28E   \n",
              "4    2020-01-01                    2849  EC2F4AA4-BA64-4E2E-A5B7-4EBBE042D6D3   \n",
              "...         ...                     ...                                   ...   \n",
              "3337 2020-12-01                  125834  80BCB1D8-673F-495B-9C2A-4AC9F9CB38E5   \n",
              "3338 2020-12-01                   37652  D4C7C1FB-03A7-4046-A2BD-03EBE7DA861E   \n",
              "3339 2020-12-01                     160  FFCEE7D4-1F38-4D44-BE02-EB042DAACEE7   \n",
              "3340 2020-12-01                  634875  8DFF4F01-2F8B-4085-B116-05A314108B02   \n",
              "3341 2020-12-01                 1044477  F18225D6-4024-4F03-A15A-D18917386D59   \n",
              "\n",
              "               RFC                                          PROVEEDOR  \\\n",
              "0     ARE080115PBA                                ARSI RENTA SA DE CV   \n",
              "1     BNM840515VB1                     BANCO NACIONAL DE MEXICO, S.A.   \n",
              "2     BNM840515VB1                     BANCO NACIONAL DE MEXICO, S.A.   \n",
              "3     PSS120625C86  PROMOTORA DE SERVICIOS Y SOLUCIONES EMPRESARIA...   \n",
              "4     ENA7006081P0                   ELECTROTERMICA NACIONAL SA DE CV   \n",
              "...            ...                                                ...   \n",
              "3337  SQS110113MU0                   SERVICIO QUINTANA SUR S.A DE C.V   \n",
              "3338  PSQ790724C90  CIA. PERIODISTICA DEL SOL DE QUERETARO, S.A. D...   \n",
              "3339  SQX981027RY5                            SUPER Q, S. A. DE C. V.   \n",
              "3340  BIN940223KE0  BANCO INVEX, S.A., INSTITUCION DE BANCA MULTIP...   \n",
              "3341  EFE8908015L3                      EFECTIVALE S. de R.L. de C.V.   \n",
              "\n",
              "                TIPO GASTO   GASTO  \\\n",
              "0               MAQUINARIA     NaN   \n",
              "1        COMISION BANCARIA     NaN   \n",
              "2        COMISION BANCARIA     NaN   \n",
              "3     HONORARIOS CONTABLES     NaN   \n",
              "4                  COMPRAS     NaN   \n",
              "...                    ...     ...   \n",
              "3337           COMBUSTIBLE   G VTA   \n",
              "3338            PUBLICIDAD   G VTA   \n",
              "3339             ALIMENTOS   G VTA   \n",
              "3340     COMISION BANCARIA  G FINA   \n",
              "3341           COMBUSTIBLE   G VTA   \n",
              "\n",
              "                                            DESCRIPCION   TC   IMPORTE  \\\n",
              "0     Descripción: REVOLVEDORA, Modelo: ULTRAMP9A, M...  1.0      0.00   \n",
              "1                                      COMISION COBRADA  1.0    490.00   \n",
              "2                                      COMISION COBRADA  1.0    195.00   \n",
              "3      HONORARIOS CONTABLES\\nDEL MES DE ENERO DEL 2020.  1.0  10694.25   \n",
              "4                                                  Pago  1.0      0.00   \n",
              "...                                                 ...  ...       ...   \n",
              "3337                                        32011 MAGNA  1.0    129.79   \n",
              "3338   82101504-PUBLICIDAD EN PERIODICOSCALOR Y CONTROL  1.0   2284.80   \n",
              "3339                  REF VICTORIA GROSELLA 3 LT PET NR  1.0    163.79   \n",
              "3340                             COMISIONES E INTERESES  1.0      0.00   \n",
              "3341  CONSUMOS DE COMBUSTIBLE DE MONEDEROS ELECTRONICOS  1.0  14889.29   \n",
              "\n",
              "          IVA  RET ISR  RET IVA  TOTAL MX  TOTAL SAT TIPO   STATUS POLIZA  \\\n",
              "0     2248.28      0.0      0.0   2248.28   16300.00    I  Vigente    NaN   \n",
              "1       78.40      0.0      0.0    568.40     568.40    I  Vigente    NaN   \n",
              "2       31.20      0.0      0.0    226.20     226.20    I  Vigente    NaN   \n",
              "3     1711.08      0.0      0.0  12405.33   12405.33    I  Vigente    NaN   \n",
              "4         NaN      0.0      0.0      0.00       0.00    P  Vigente    NaN   \n",
              "...       ...      ...      ...       ...        ...  ...      ...    ...   \n",
              "3337    20.21      0.0      0.0    150.00     150.00    I  Vigente    NaN   \n",
              "3338   365.57      0.0      0.0   2650.37    2650.37    I  Vigente    NaN   \n",
              "3339    26.21      0.0      0.0    190.00     190.00    I  Vigente    NaN   \n",
              "3340     0.00      0.0      0.0      0.00       0.00    I  Vigente    NaN   \n",
              "3341     0.00      0.0      0.0  14889.29   14889.29    I  Vigente    NaN   \n",
              "\n",
              "      Columna1  \n",
              "0     14051.72  \n",
              "1         0.00  \n",
              "2         0.00  \n",
              "3         0.00  \n",
              "4         0.00  \n",
              "...        ...  \n",
              "3337      0.00  \n",
              "3338      0.00  \n",
              "3339      0.00  \n",
              "3340      0.00  \n",
              "3341      0.00  \n",
              "\n",
              "[3342 rows x 19 columns]"
            ],
            "text/html": [
              "\n",
              "  <div id=\"df-4e9a85a7-6590-4e49-bc4d-9541f4b8934c\">\n",
              "    <div class=\"colab-df-container\">\n",
              "      <div>\n",
              "<style scoped>\n",
              "    .dataframe tbody tr th:only-of-type {\n",
              "        vertical-align: middle;\n",
              "    }\n",
              "\n",
              "    .dataframe tbody tr th {\n",
              "        vertical-align: top;\n",
              "    }\n",
              "\n",
              "    .dataframe thead th {\n",
              "        text-align: right;\n",
              "    }\n",
              "</style>\n",
              "<table border=\"1\" class=\"dataframe\">\n",
              "  <thead>\n",
              "    <tr style=\"text-align: right;\">\n",
              "      <th></th>\n",
              "      <th>FECHA</th>\n",
              "      <th>FOLIO</th>\n",
              "      <th>UUID</th>\n",
              "      <th>RFC</th>\n",
              "      <th>PROVEEDOR</th>\n",
              "      <th>TIPO GASTO</th>\n",
              "      <th>GASTO</th>\n",
              "      <th>DESCRIPCION</th>\n",
              "      <th>TC</th>\n",
              "      <th>IMPORTE</th>\n",
              "      <th>IVA</th>\n",
              "      <th>RET ISR</th>\n",
              "      <th>RET IVA</th>\n",
              "      <th>TOTAL MX</th>\n",
              "      <th>TOTAL SAT</th>\n",
              "      <th>TIPO</th>\n",
              "      <th>STATUS</th>\n",
              "      <th>POLIZA</th>\n",
              "      <th>Columna1</th>\n",
              "    </tr>\n",
              "  </thead>\n",
              "  <tbody>\n",
              "    <tr>\n",
              "      <th>0</th>\n",
              "      <td>2020-01-01</td>\n",
              "      <td>39408</td>\n",
              "      <td>BD20F436-72CC-4BE2-AD37-5999D71AA391</td>\n",
              "      <td>ARE080115PBA</td>\n",
              "      <td>ARSI RENTA SA DE CV</td>\n",
              "      <td>MAQUINARIA</td>\n",
              "      <td>NaN</td>\n",
              "      <td>Descripción: REVOLVEDORA, Modelo: ULTRAMP9A, M...</td>\n",
              "      <td>1.0</td>\n",
              "      <td>0.00</td>\n",
              "      <td>2248.28</td>\n",
              "      <td>0.0</td>\n",
              "      <td>0.0</td>\n",
              "      <td>2248.28</td>\n",
              "      <td>16300.00</td>\n",
              "      <td>I</td>\n",
              "      <td>Vigente</td>\n",
              "      <td>NaN</td>\n",
              "      <td>14051.72</td>\n",
              "    </tr>\n",
              "    <tr>\n",
              "      <th>1</th>\n",
              "      <td>2020-01-01</td>\n",
              "      <td>0001010100750847116902</td>\n",
              "      <td>85AEAC2E-6395-44A0-9CB9-754D06893375</td>\n",
              "      <td>BNM840515VB1</td>\n",
              "      <td>BANCO NACIONAL DE MEXICO, S.A.</td>\n",
              "      <td>COMISION BANCARIA</td>\n",
              "      <td>NaN</td>\n",
              "      <td>COMISION COBRADA</td>\n",
              "      <td>1.0</td>\n",
              "      <td>490.00</td>\n",
              "      <td>78.40</td>\n",
              "      <td>0.0</td>\n",
              "      <td>0.0</td>\n",
              "      <td>568.40</td>\n",
              "      <td>568.40</td>\n",
              "      <td>I</td>\n",
              "      <td>Vigente</td>\n",
              "      <td>NaN</td>\n",
              "      <td>0.00</td>\n",
              "    </tr>\n",
              "    <tr>\n",
              "      <th>2</th>\n",
              "      <td>2020-01-01</td>\n",
              "      <td>0001010100752163714102</td>\n",
              "      <td>BD0DFE85-D776-41CB-9C5C-4FA7923E687A</td>\n",
              "      <td>BNM840515VB1</td>\n",
              "      <td>BANCO NACIONAL DE MEXICO, S.A.</td>\n",
              "      <td>COMISION BANCARIA</td>\n",
              "      <td>NaN</td>\n",
              "      <td>COMISION COBRADA</td>\n",
              "      <td>1.0</td>\n",
              "      <td>195.00</td>\n",
              "      <td>31.20</td>\n",
              "      <td>0.0</td>\n",
              "      <td>0.0</td>\n",
              "      <td>226.20</td>\n",
              "      <td>226.20</td>\n",
              "      <td>I</td>\n",
              "      <td>Vigente</td>\n",
              "      <td>NaN</td>\n",
              "      <td>0.00</td>\n",
              "    </tr>\n",
              "    <tr>\n",
              "      <th>3</th>\n",
              "      <td>2020-01-01</td>\n",
              "      <td>3663</td>\n",
              "      <td>EF4504D6-830D-415C-AF03-80CF54C5E28E</td>\n",
              "      <td>PSS120625C86</td>\n",
              "      <td>PROMOTORA DE SERVICIOS Y SOLUCIONES EMPRESARIA...</td>\n",
              "      <td>HONORARIOS CONTABLES</td>\n",
              "      <td>NaN</td>\n",
              "      <td>HONORARIOS CONTABLES\\nDEL MES DE ENERO DEL 2020.</td>\n",
              "      <td>1.0</td>\n",
              "      <td>10694.25</td>\n",
              "      <td>1711.08</td>\n",
              "      <td>0.0</td>\n",
              "      <td>0.0</td>\n",
              "      <td>12405.33</td>\n",
              "      <td>12405.33</td>\n",
              "      <td>I</td>\n",
              "      <td>Vigente</td>\n",
              "      <td>NaN</td>\n",
              "      <td>0.00</td>\n",
              "    </tr>\n",
              "    <tr>\n",
              "      <th>4</th>\n",
              "      <td>2020-01-01</td>\n",
              "      <td>2849</td>\n",
              "      <td>EC2F4AA4-BA64-4E2E-A5B7-4EBBE042D6D3</td>\n",
              "      <td>ENA7006081P0</td>\n",
              "      <td>ELECTROTERMICA NACIONAL SA DE CV</td>\n",
              "      <td>COMPRAS</td>\n",
              "      <td>NaN</td>\n",
              "      <td>Pago</td>\n",
              "      <td>1.0</td>\n",
              "      <td>0.00</td>\n",
              "      <td>NaN</td>\n",
              "      <td>0.0</td>\n",
              "      <td>0.0</td>\n",
              "      <td>0.00</td>\n",
              "      <td>0.00</td>\n",
              "      <td>P</td>\n",
              "      <td>Vigente</td>\n",
              "      <td>NaN</td>\n",
              "      <td>0.00</td>\n",
              "    </tr>\n",
              "    <tr>\n",
              "      <th>...</th>\n",
              "      <td>...</td>\n",
              "      <td>...</td>\n",
              "      <td>...</td>\n",
              "      <td>...</td>\n",
              "      <td>...</td>\n",
              "      <td>...</td>\n",
              "      <td>...</td>\n",
              "      <td>...</td>\n",
              "      <td>...</td>\n",
              "      <td>...</td>\n",
              "      <td>...</td>\n",
              "      <td>...</td>\n",
              "      <td>...</td>\n",
              "      <td>...</td>\n",
              "      <td>...</td>\n",
              "      <td>...</td>\n",
              "      <td>...</td>\n",
              "      <td>...</td>\n",
              "      <td>...</td>\n",
              "    </tr>\n",
              "    <tr>\n",
              "      <th>3337</th>\n",
              "      <td>2020-12-01</td>\n",
              "      <td>125834</td>\n",
              "      <td>80BCB1D8-673F-495B-9C2A-4AC9F9CB38E5</td>\n",
              "      <td>SQS110113MU0</td>\n",
              "      <td>SERVICIO QUINTANA SUR S.A DE C.V</td>\n",
              "      <td>COMBUSTIBLE</td>\n",
              "      <td>G VTA</td>\n",
              "      <td>32011 MAGNA</td>\n",
              "      <td>1.0</td>\n",
              "      <td>129.79</td>\n",
              "      <td>20.21</td>\n",
              "      <td>0.0</td>\n",
              "      <td>0.0</td>\n",
              "      <td>150.00</td>\n",
              "      <td>150.00</td>\n",
              "      <td>I</td>\n",
              "      <td>Vigente</td>\n",
              "      <td>NaN</td>\n",
              "      <td>0.00</td>\n",
              "    </tr>\n",
              "    <tr>\n",
              "      <th>3338</th>\n",
              "      <td>2020-12-01</td>\n",
              "      <td>37652</td>\n",
              "      <td>D4C7C1FB-03A7-4046-A2BD-03EBE7DA861E</td>\n",
              "      <td>PSQ790724C90</td>\n",
              "      <td>CIA. PERIODISTICA DEL SOL DE QUERETARO, S.A. D...</td>\n",
              "      <td>PUBLICIDAD</td>\n",
              "      <td>G VTA</td>\n",
              "      <td>82101504-PUBLICIDAD EN PERIODICOSCALOR Y CONTROL</td>\n",
              "      <td>1.0</td>\n",
              "      <td>2284.80</td>\n",
              "      <td>365.57</td>\n",
              "      <td>0.0</td>\n",
              "      <td>0.0</td>\n",
              "      <td>2650.37</td>\n",
              "      <td>2650.37</td>\n",
              "      <td>I</td>\n",
              "      <td>Vigente</td>\n",
              "      <td>NaN</td>\n",
              "      <td>0.00</td>\n",
              "    </tr>\n",
              "    <tr>\n",
              "      <th>3339</th>\n",
              "      <td>2020-12-01</td>\n",
              "      <td>160</td>\n",
              "      <td>FFCEE7D4-1F38-4D44-BE02-EB042DAACEE7</td>\n",
              "      <td>SQX981027RY5</td>\n",
              "      <td>SUPER Q, S. A. DE C. V.</td>\n",
              "      <td>ALIMENTOS</td>\n",
              "      <td>G VTA</td>\n",
              "      <td>REF VICTORIA GROSELLA 3 LT PET NR</td>\n",
              "      <td>1.0</td>\n",
              "      <td>163.79</td>\n",
              "      <td>26.21</td>\n",
              "      <td>0.0</td>\n",
              "      <td>0.0</td>\n",
              "      <td>190.00</td>\n",
              "      <td>190.00</td>\n",
              "      <td>I</td>\n",
              "      <td>Vigente</td>\n",
              "      <td>NaN</td>\n",
              "      <td>0.00</td>\n",
              "    </tr>\n",
              "    <tr>\n",
              "      <th>3340</th>\n",
              "      <td>2020-12-01</td>\n",
              "      <td>634875</td>\n",
              "      <td>8DFF4F01-2F8B-4085-B116-05A314108B02</td>\n",
              "      <td>BIN940223KE0</td>\n",
              "      <td>BANCO INVEX, S.A., INSTITUCION DE BANCA MULTIP...</td>\n",
              "      <td>COMISION BANCARIA</td>\n",
              "      <td>G FINA</td>\n",
              "      <td>COMISIONES E INTERESES</td>\n",
              "      <td>1.0</td>\n",
              "      <td>0.00</td>\n",
              "      <td>0.00</td>\n",
              "      <td>0.0</td>\n",
              "      <td>0.0</td>\n",
              "      <td>0.00</td>\n",
              "      <td>0.00</td>\n",
              "      <td>I</td>\n",
              "      <td>Vigente</td>\n",
              "      <td>NaN</td>\n",
              "      <td>0.00</td>\n",
              "    </tr>\n",
              "    <tr>\n",
              "      <th>3341</th>\n",
              "      <td>2020-12-01</td>\n",
              "      <td>1044477</td>\n",
              "      <td>F18225D6-4024-4F03-A15A-D18917386D59</td>\n",
              "      <td>EFE8908015L3</td>\n",
              "      <td>EFECTIVALE S. de R.L. de C.V.</td>\n",
              "      <td>COMBUSTIBLE</td>\n",
              "      <td>G VTA</td>\n",
              "      <td>CONSUMOS DE COMBUSTIBLE DE MONEDEROS ELECTRONICOS</td>\n",
              "      <td>1.0</td>\n",
              "      <td>14889.29</td>\n",
              "      <td>0.00</td>\n",
              "      <td>0.0</td>\n",
              "      <td>0.0</td>\n",
              "      <td>14889.29</td>\n",
              "      <td>14889.29</td>\n",
              "      <td>I</td>\n",
              "      <td>Vigente</td>\n",
              "      <td>NaN</td>\n",
              "      <td>0.00</td>\n",
              "    </tr>\n",
              "  </tbody>\n",
              "</table>\n",
              "<p>3342 rows × 19 columns</p>\n",
              "</div>\n",
              "      <button class=\"colab-df-convert\" onclick=\"convertToInteractive('df-4e9a85a7-6590-4e49-bc4d-9541f4b8934c')\"\n",
              "              title=\"Convert this dataframe to an interactive table.\"\n",
              "              style=\"display:none;\">\n",
              "        \n",
              "  <svg xmlns=\"http://www.w3.org/2000/svg\" height=\"24px\"viewBox=\"0 0 24 24\"\n",
              "       width=\"24px\">\n",
              "    <path d=\"M0 0h24v24H0V0z\" fill=\"none\"/>\n",
              "    <path d=\"M18.56 5.44l.94 2.06.94-2.06 2.06-.94-2.06-.94-.94-2.06-.94 2.06-2.06.94zm-11 1L8.5 8.5l.94-2.06 2.06-.94-2.06-.94L8.5 2.5l-.94 2.06-2.06.94zm10 10l.94 2.06.94-2.06 2.06-.94-2.06-.94-.94-2.06-.94 2.06-2.06.94z\"/><path d=\"M17.41 7.96l-1.37-1.37c-.4-.4-.92-.59-1.43-.59-.52 0-1.04.2-1.43.59L10.3 9.45l-7.72 7.72c-.78.78-.78 2.05 0 2.83L4 21.41c.39.39.9.59 1.41.59.51 0 1.02-.2 1.41-.59l7.78-7.78 2.81-2.81c.8-.78.8-2.07 0-2.86zM5.41 20L4 18.59l7.72-7.72 1.47 1.35L5.41 20z\"/>\n",
              "  </svg>\n",
              "      </button>\n",
              "      \n",
              "  <style>\n",
              "    .colab-df-container {\n",
              "      display:flex;\n",
              "      flex-wrap:wrap;\n",
              "      gap: 12px;\n",
              "    }\n",
              "\n",
              "    .colab-df-convert {\n",
              "      background-color: #E8F0FE;\n",
              "      border: none;\n",
              "      border-radius: 50%;\n",
              "      cursor: pointer;\n",
              "      display: none;\n",
              "      fill: #1967D2;\n",
              "      height: 32px;\n",
              "      padding: 0 0 0 0;\n",
              "      width: 32px;\n",
              "    }\n",
              "\n",
              "    .colab-df-convert:hover {\n",
              "      background-color: #E2EBFA;\n",
              "      box-shadow: 0px 1px 2px rgba(60, 64, 67, 0.3), 0px 1px 3px 1px rgba(60, 64, 67, 0.15);\n",
              "      fill: #174EA6;\n",
              "    }\n",
              "\n",
              "    [theme=dark] .colab-df-convert {\n",
              "      background-color: #3B4455;\n",
              "      fill: #D2E3FC;\n",
              "    }\n",
              "\n",
              "    [theme=dark] .colab-df-convert:hover {\n",
              "      background-color: #434B5C;\n",
              "      box-shadow: 0px 1px 3px 1px rgba(0, 0, 0, 0.15);\n",
              "      filter: drop-shadow(0px 1px 2px rgba(0, 0, 0, 0.3));\n",
              "      fill: #FFFFFF;\n",
              "    }\n",
              "  </style>\n",
              "\n",
              "      <script>\n",
              "        const buttonEl =\n",
              "          document.querySelector('#df-4e9a85a7-6590-4e49-bc4d-9541f4b8934c button.colab-df-convert');\n",
              "        buttonEl.style.display =\n",
              "          google.colab.kernel.accessAllowed ? 'block' : 'none';\n",
              "\n",
              "        async function convertToInteractive(key) {\n",
              "          const element = document.querySelector('#df-4e9a85a7-6590-4e49-bc4d-9541f4b8934c');\n",
              "          const dataTable =\n",
              "            await google.colab.kernel.invokeFunction('convertToInteractive',\n",
              "                                                     [key], {});\n",
              "          if (!dataTable) return;\n",
              "\n",
              "          const docLinkHtml = 'Like what you see? Visit the ' +\n",
              "            '<a target=\"_blank\" href=https://colab.research.google.com/notebooks/data_table.ipynb>data table notebook</a>'\n",
              "            + ' to learn more about interactive tables.';\n",
              "          element.innerHTML = '';\n",
              "          dataTable['output_type'] = 'display_data';\n",
              "          await google.colab.output.renderOutput(dataTable, element);\n",
              "          const docLink = document.createElement('div');\n",
              "          docLink.innerHTML = docLinkHtml;\n",
              "          element.appendChild(docLink);\n",
              "        }\n",
              "      </script>\n",
              "    </div>\n",
              "  </div>\n",
              "  "
            ]
          },
          "metadata": {},
          "execution_count": 3
        }
      ]
    },
    {
      "cell_type": "code",
      "source": [
        "#Identificar valores nulos por columna\n",
        "valores_nulos=gastosycostos2020.isnull().sum()\n",
        "valores_nulos"
      ],
      "metadata": {
        "id": "0-dWeOUHBIkq",
        "colab": {
          "base_uri": "https://localhost:8080/"
        },
        "outputId": "163a2670-e364-42fe-ad5f-a0d2ce004169"
      },
      "execution_count": null,
      "outputs": [
        {
          "output_type": "execute_result",
          "data": {
            "text/plain": [
              "FECHA             0\n",
              "FOLIO           189\n",
              "UUID              0\n",
              "RFC               0\n",
              "PROVEEDOR         0\n",
              "TIPO GASTO        0\n",
              "GASTO          2502\n",
              "DESCRIPCION       0\n",
              "TC              391\n",
              "IMPORTE          34\n",
              "IVA             268\n",
              "RET ISR           0\n",
              "RET IVA           0\n",
              "TOTAL MX          0\n",
              "TOTAL SAT         0\n",
              "TIPO              1\n",
              "STATUS            0\n",
              "POLIZA         3321\n",
              "Columna1          0\n",
              "dtype: int64"
            ]
          },
          "metadata": {},
          "execution_count": 4
        }
      ]
    },
    {
      "cell_type": "code",
      "source": [
        "#Identificar valores nulos por dataframe\n",
        "valores_nulos=gastosycostos2020.isnull().sum().sum()\n",
        "valores_nulos"
      ],
      "metadata": {
        "id": "CY6wFkDvYtrD",
        "colab": {
          "base_uri": "https://localhost:8080/"
        },
        "outputId": "ad01283f-6ff2-46e2-f095-29e776e3ab56"
      },
      "execution_count": null,
      "outputs": [
        {
          "output_type": "execute_result",
          "data": {
            "text/plain": [
              "6706"
            ]
          },
          "metadata": {},
          "execution_count": 5
        }
      ]
    },
    {
      "cell_type": "markdown",
      "source": [
        "### **Métodos de Sustitución de Valores Nulos**"
      ],
      "metadata": {
        "id": "XncKYOfkBl1y"
      }
    },
    {
      "cell_type": "code",
      "source": [
        "#Realizamos una copia del dataframe\n",
        "data20=gastosycostos2020.copy()"
      ],
      "metadata": {
        "id": "zMJieQa6Bntp"
      },
      "execution_count": null,
      "outputs": []
    },
    {
      "cell_type": "code",
      "source": [
        "#Corroboramos valores nulos\n",
        "valores_nulos=data20.isnull().sum()\n",
        "valores_nulos"
      ],
      "metadata": {
        "id": "ABDcOFMCByzN",
        "colab": {
          "base_uri": "https://localhost:8080/"
        },
        "outputId": "8318f681-3cda-4890-e647-26c5001f7d48"
      },
      "execution_count": null,
      "outputs": [
        {
          "output_type": "execute_result",
          "data": {
            "text/plain": [
              "FECHA             0\n",
              "FOLIO           189\n",
              "UUID              0\n",
              "RFC               0\n",
              "PROVEEDOR         0\n",
              "TIPO GASTO        0\n",
              "GASTO          2502\n",
              "DESCRIPCION       0\n",
              "TC              391\n",
              "IMPORTE          34\n",
              "IVA             268\n",
              "RET ISR           0\n",
              "RET IVA           0\n",
              "TOTAL MX          0\n",
              "TOTAL SAT         0\n",
              "TIPO              1\n",
              "STATUS            0\n",
              "POLIZA         3321\n",
              "Columna1          0\n",
              "dtype: int64"
            ]
          },
          "metadata": {},
          "execution_count": 7
        }
      ]
    },
    {
      "cell_type": "code",
      "source": [
        "#Sustituir valores nulos por un valor numérico en  concreto \n",
        "data20[\"FOLIO\"]= data20[\"FOLIO\"].fillna(0) \n",
        "data20\n",
        "#Corroboramos valores nulos\n",
        "valores_nulos=data20.isnull().sum()\n",
        "valores_nulos"
      ],
      "metadata": {
        "id": "sabbsa7jBp_8",
        "colab": {
          "base_uri": "https://localhost:8080/"
        },
        "outputId": "ebde42b9-5aef-413f-e05a-3efbabc4da3f"
      },
      "execution_count": null,
      "outputs": [
        {
          "output_type": "execute_result",
          "data": {
            "text/plain": [
              "FECHA             0\n",
              "FOLIO             0\n",
              "UUID              0\n",
              "RFC               0\n",
              "PROVEEDOR         0\n",
              "TIPO GASTO        0\n",
              "GASTO          2502\n",
              "DESCRIPCION       0\n",
              "TC              391\n",
              "IMPORTE          34\n",
              "IVA             268\n",
              "RET ISR           0\n",
              "RET IVA           0\n",
              "TOTAL MX          0\n",
              "TOTAL SAT         0\n",
              "TIPO              1\n",
              "STATUS            0\n",
              "POLIZA         3321\n",
              "Columna1          0\n",
              "dtype: int64"
            ]
          },
          "metadata": {},
          "execution_count": 8
        }
      ]
    },
    {
      "cell_type": "code",
      "source": [
        "#Sustituir valores nulos por un valor numérico en  concreto \n",
        "data20[\"GASTO\"]= data20[\"GASTO\"].fillna(0) \n",
        "data20\n",
        "#Corroboramos valores nulos\n",
        "valores_nulos=data20.isnull().sum()\n",
        "valores_nulos"
      ],
      "metadata": {
        "id": "THpDQu3bCJuG",
        "colab": {
          "base_uri": "https://localhost:8080/"
        },
        "outputId": "60f75423-4524-447a-ee17-99ccdd121a31"
      },
      "execution_count": null,
      "outputs": [
        {
          "output_type": "execute_result",
          "data": {
            "text/plain": [
              "FECHA             0\n",
              "FOLIO             0\n",
              "UUID              0\n",
              "RFC               0\n",
              "PROVEEDOR         0\n",
              "TIPO GASTO        0\n",
              "GASTO             0\n",
              "DESCRIPCION       0\n",
              "TC              391\n",
              "IMPORTE          34\n",
              "IVA             268\n",
              "RET ISR           0\n",
              "RET IVA           0\n",
              "TOTAL MX          0\n",
              "TOTAL SAT         0\n",
              "TIPO              1\n",
              "STATUS            0\n",
              "POLIZA         3321\n",
              "Columna1          0\n",
              "dtype: int64"
            ]
          },
          "metadata": {},
          "execution_count": 9
        }
      ]
    },
    {
      "cell_type": "code",
      "source": [
        "#Sustituir valores nulos con promedio o media\n",
        "data20[\"TC\"]=data20[\"TC\"].fillna(round(data20[\"TC\"].mean(),1))\n",
        "#Corroboramos valores nulos\n",
        "valores_nulos=data20.isnull().sum()\n",
        "valores_nulos"
      ],
      "metadata": {
        "colab": {
          "base_uri": "https://localhost:8080/"
        },
        "id": "kDfQHm5ld1DU",
        "outputId": "1ffd4a3a-f167-43d2-de56-c6e656d85952"
      },
      "execution_count": null,
      "outputs": [
        {
          "output_type": "execute_result",
          "data": {
            "text/plain": [
              "FECHA             0\n",
              "FOLIO             0\n",
              "UUID              0\n",
              "RFC               0\n",
              "PROVEEDOR         0\n",
              "TIPO GASTO        0\n",
              "GASTO             0\n",
              "DESCRIPCION       0\n",
              "TC                0\n",
              "IMPORTE          34\n",
              "IVA             268\n",
              "RET ISR           0\n",
              "RET IVA           0\n",
              "TOTAL MX          0\n",
              "TOTAL SAT         0\n",
              "TIPO              1\n",
              "STATUS            0\n",
              "POLIZA         3321\n",
              "Columna1          0\n",
              "dtype: int64"
            ]
          },
          "metadata": {},
          "execution_count": 10
        }
      ]
    },
    {
      "cell_type": "code",
      "source": [
        "#Sustituir valores nulos con mediana\n",
        "data20[\"IMPORTE\"]=data20[\"IMPORTE\"].fillna(round(data20[\"IMPORTE\"].median(),1))\n",
        "#Corroboramos valores nulos\n",
        "valores_nulos=data20.isnull().sum()\n",
        "valores_nulos"
      ],
      "metadata": {
        "colab": {
          "base_uri": "https://localhost:8080/"
        },
        "id": "tSIm2p3eD5kc",
        "outputId": "82c4ae78-4f51-4734-967b-a798789c76e3"
      },
      "execution_count": null,
      "outputs": [
        {
          "output_type": "execute_result",
          "data": {
            "text/plain": [
              "FECHA             0\n",
              "FOLIO             0\n",
              "UUID              0\n",
              "RFC               0\n",
              "PROVEEDOR         0\n",
              "TIPO GASTO        0\n",
              "GASTO             0\n",
              "DESCRIPCION       0\n",
              "TC                0\n",
              "IMPORTE           0\n",
              "IVA             268\n",
              "RET ISR           0\n",
              "RET IVA           0\n",
              "TOTAL MX          0\n",
              "TOTAL SAT         0\n",
              "TIPO              1\n",
              "STATUS            0\n",
              "POLIZA         3321\n",
              "Columna1          0\n",
              "dtype: int64"
            ]
          },
          "metadata": {},
          "execution_count": 11
        }
      ]
    },
    {
      "cell_type": "code",
      "source": [
        "#Sustituir valores nulos con promedio o media\n",
        "data20[\"IVA\"]=data20[\"IVA\"].fillna(round(data20[\"IVA\"].mean(),1))\n",
        "#Corroboramos valores nulos\n",
        "valores_nulos=data20.isnull().sum()\n",
        "valores_nulos"
      ],
      "metadata": {
        "colab": {
          "base_uri": "https://localhost:8080/"
        },
        "id": "F4u9z9bpewrr",
        "outputId": "af264a00-02a8-4f3c-eab4-b16594186af7"
      },
      "execution_count": null,
      "outputs": [
        {
          "output_type": "execute_result",
          "data": {
            "text/plain": [
              "FECHA             0\n",
              "FOLIO             0\n",
              "UUID              0\n",
              "RFC               0\n",
              "PROVEEDOR         0\n",
              "TIPO GASTO        0\n",
              "GASTO             0\n",
              "DESCRIPCION       0\n",
              "TC                0\n",
              "IMPORTE           0\n",
              "IVA               0\n",
              "RET ISR           0\n",
              "RET IVA           0\n",
              "TOTAL MX          0\n",
              "TOTAL SAT         0\n",
              "TIPO              1\n",
              "STATUS            0\n",
              "POLIZA         3321\n",
              "Columna1          0\n",
              "dtype: int64"
            ]
          },
          "metadata": {},
          "execution_count": 12
        }
      ]
    },
    {
      "cell_type": "code",
      "source": [
        "#Sustituir valores nulos por un valor numérico en  concreto \n",
        "data20[\"TIPO\"]= data20[\"TIPO\"].fillna('I') \n",
        "#Corroboramos valores nulos\n",
        "valores_nulos=data20.isnull().sum()\n",
        "valores_nulos"
      ],
      "metadata": {
        "colab": {
          "base_uri": "https://localhost:8080/"
        },
        "id": "i7D-NSvdgXkH",
        "outputId": "f5f96e97-5bf7-4420-ae0f-bd79344363e3"
      },
      "execution_count": null,
      "outputs": [
        {
          "output_type": "execute_result",
          "data": {
            "text/plain": [
              "FECHA             0\n",
              "FOLIO             0\n",
              "UUID              0\n",
              "RFC               0\n",
              "PROVEEDOR         0\n",
              "TIPO GASTO        0\n",
              "GASTO             0\n",
              "DESCRIPCION       0\n",
              "TC                0\n",
              "IMPORTE           0\n",
              "IVA               0\n",
              "RET ISR           0\n",
              "RET IVA           0\n",
              "TOTAL MX          0\n",
              "TOTAL SAT         0\n",
              "TIPO              0\n",
              "STATUS            0\n",
              "POLIZA         3321\n",
              "Columna1          0\n",
              "dtype: int64"
            ]
          },
          "metadata": {},
          "execution_count": 13
        }
      ]
    },
    {
      "cell_type": "code",
      "source": [
        "#Sustituir valores nulos por un valor numérico en  concreto \n",
        "data20[\"POLIZA\"]= data20[\"POLIZA\"].fillna('SIN POLIZA') \n",
        "#Corroboramos valores nulos\n",
        "valores_nulos=data20.isnull().sum()\n",
        "valores_nulos"
      ],
      "metadata": {
        "id": "uQh5A6NeCP_f",
        "colab": {
          "base_uri": "https://localhost:8080/"
        },
        "outputId": "1916e8be-8825-4add-e10d-ea8ba9c8ceb0"
      },
      "execution_count": null,
      "outputs": [
        {
          "output_type": "execute_result",
          "data": {
            "text/plain": [
              "FECHA          0\n",
              "FOLIO          0\n",
              "UUID           0\n",
              "RFC            0\n",
              "PROVEEDOR      0\n",
              "TIPO GASTO     0\n",
              "GASTO          0\n",
              "DESCRIPCION    0\n",
              "TC             0\n",
              "IMPORTE        0\n",
              "IVA            0\n",
              "RET ISR        0\n",
              "RET IVA        0\n",
              "TOTAL MX       0\n",
              "TOTAL SAT      0\n",
              "TIPO           0\n",
              "STATUS         0\n",
              "POLIZA         0\n",
              "Columna1       0\n",
              "dtype: int64"
            ]
          },
          "metadata": {},
          "execution_count": 14
        }
      ]
    },
    {
      "cell_type": "markdown",
      "source": [
        "# 2021"
      ],
      "metadata": {
        "id": "UO_5mAaQegVN"
      }
    },
    {
      "cell_type": "code",
      "source": [
        "#Carga desde un archivo\n",
        "gastosycostos2021= pd.read_excel('Gastos y costos 20-23.xlsx', sheet_name='2021',)\n",
        "gastosycostos2021"
      ],
      "metadata": {
        "colab": {
          "base_uri": "https://localhost:8080/",
          "height": 1000
        },
        "id": "hQs2OaQMfU_P",
        "outputId": "7c693966-44d5-47c8-a730-36c0d4223fd5"
      },
      "execution_count": null,
      "outputs": [
        {
          "output_type": "execute_result",
          "data": {
            "text/plain": [
              "          FECHA                   FOLIO                                  UUID  \\\n",
              "0    2021-01-01  0001010100750847116902  71B4C8B9-8DAA-47CC-AD47-9DD90AA5AF6B   \n",
              "1    2021-01-01  0001010100752163714102  B8AEDE83-CC76-404C-A611-6B5A87BA561F   \n",
              "2    2021-01-01                   19788  19B9B2C2-DF58-E24D-B43A-3FC4D5A929E7   \n",
              "3    2021-01-01                  211781  EAB26414-DD9A-4E8F-9F5C-05FE24D98E48   \n",
              "4    2021-01-01                  211782  C16F79B5-FB35-4BFC-AF84-708B24F500BB   \n",
              "...         ...                     ...                                   ...   \n",
              "3030 2021-12-01                  127043  83F82167-0D14-144E-9D76-045C95F25DDD   \n",
              "3031 2021-12-01                   11740  B1C60AE0-02BC-4A33-9513-A280F72B5D06   \n",
              "3032 2021-12-01              1092957089  255F4A25-5753-4208-8F6B-0B59E5AE4741   \n",
              "3033 2021-12-01                  747826  D8226E4F-9241-44C3-86A4-CDE9BC932528   \n",
              "3034 2021-12-01                 1227374  41770F35-39EF-41A4-8DF4-EE9586CF4549   \n",
              "\n",
              "               RFC                                          PROVEEDOR  \\\n",
              "0     BNM840515VB1                     BANCO NACIONAL DE MEXICO, S.A.   \n",
              "1     BNM840515VB1                     BANCO NACIONAL DE MEXICO, S.A.   \n",
              "2     ESI9612311E7             ELECTRONICOS Y SIMILARES, S.A. DE C.V.   \n",
              "3     BLE1512082R9                       BEPENSA LEASING S.A. DE C.V.   \n",
              "4     BLE1512082R9                       BEPENSA LEASING S.A. DE C.V.   \n",
              "...            ...                                                ...   \n",
              "3030  PGM881128QIA       PROMOCIONES GRAFICAS MEXICANAS, S.A. DE C.V.   \n",
              "3031  SME0510105C7                      SPECTRIS MEXICO S DE RL DE CV   \n",
              "3032  BMN930209927  BANCO MERCANTIL DEL NORTE SA INSTITUCION DE BA...   \n",
              "3033  BIN940223KE0  BANCO INVEX, S.A., INSTITUCION DE BANCA MULTIP...   \n",
              "3034  EFE8908015L3                      EFECTIVALE S. de R.L. de C.V.   \n",
              "\n",
              "                    TIPO GASTO  \\\n",
              "0            COMISION BANCARIA   \n",
              "1            COMISION BANCARIA   \n",
              "2                      COMPRAS   \n",
              "3     ARRENDAMIENTO FINANCIERO   \n",
              "4     ARRENDAMIENTO FINANCIERO   \n",
              "...                        ...   \n",
              "3030                PUBLICIDAD   \n",
              "3031                  COMPRAS    \n",
              "3032         COMISION BANCARIA   \n",
              "3033         COMISION BANCARIA   \n",
              "3034                  GASOLINA   \n",
              "\n",
              "                                            DESCRIPCION   MP   TC   IMPORTE  \\\n",
              "0                                      COMISION COBRADA  PUE  1.0    490.00   \n",
              "1                                      COMISION COBRADA  PUE  1.0    345.00   \n",
              "2                           MOTO E7 PLUS AZUL 64GB 4RAM  PUE  1.0   3447.41   \n",
              "3     AA RENTA EXIGIBLE CL0000006876 6/36 de 03/12/2...  PPD  1.0   5551.38   \n",
              "4     AA RENTA EXIGIBLE CL0000006877 6/36 de 03/12/2...  PPD  1.0   5551.98   \n",
              "...                                                 ...  ...  ...       ...   \n",
              "3030                                               Pago  NaN  1.0      0.00   \n",
              "3031                                 INSULATED T/C WIRE  PUE  1.0      0.00   \n",
              "3032                                SERVICIOS BANCARIOS  PUE  1.0  22826.46   \n",
              "3033                             COMISIONES E INTERESES  PUE  1.0      0.00   \n",
              "3034  CONSUMOS DE COMBUSTIBLE DE MONEDEROS ELECTRONICOS  PUE  1.0  15656.15   \n",
              "\n",
              "         IVA  RET ISR  RET IVA  TOTAL MX  TOTAL SAT TIPO   STATUS POLIZA  \n",
              "0      78.40      0.0      0.0    568.40     568.40    I  Vigente      0  \n",
              "1      55.20      0.0      0.0    400.20     400.20    I  Vigente      0  \n",
              "2     551.59      0.0      0.0   3999.00    3999.00    I  Vigente      0  \n",
              "3     888.22      0.0      0.0   6439.60    6439.60    I  Vigente      0  \n",
              "4     888.32      0.0      0.0   6440.30    6440.30    I  Vigente      0  \n",
              "...      ...      ...      ...       ...        ...  ...      ...    ...  \n",
              "3030    0.00      0.0      0.0      0.00       0.00    P  Vigente    NaN  \n",
              "3031    0.00      0.0      0.0      0.00       0.00    I  Vigente    NaN  \n",
              "3032  705.58      0.0      0.0  23532.04   23532.04    I  Vigente    NaN  \n",
              "3033    0.00      0.0      0.0      0.00       0.00    I  Vigente    NaN  \n",
              "3034    0.00      0.0      0.0  15656.15   15656.15    I  Vigente    NaN  \n",
              "\n",
              "[3035 rows x 18 columns]"
            ],
            "text/html": [
              "\n",
              "  <div id=\"df-a809a9fb-810a-4f72-b22c-011eddef7cb8\">\n",
              "    <div class=\"colab-df-container\">\n",
              "      <div>\n",
              "<style scoped>\n",
              "    .dataframe tbody tr th:only-of-type {\n",
              "        vertical-align: middle;\n",
              "    }\n",
              "\n",
              "    .dataframe tbody tr th {\n",
              "        vertical-align: top;\n",
              "    }\n",
              "\n",
              "    .dataframe thead th {\n",
              "        text-align: right;\n",
              "    }\n",
              "</style>\n",
              "<table border=\"1\" class=\"dataframe\">\n",
              "  <thead>\n",
              "    <tr style=\"text-align: right;\">\n",
              "      <th></th>\n",
              "      <th>FECHA</th>\n",
              "      <th>FOLIO</th>\n",
              "      <th>UUID</th>\n",
              "      <th>RFC</th>\n",
              "      <th>PROVEEDOR</th>\n",
              "      <th>TIPO GASTO</th>\n",
              "      <th>DESCRIPCION</th>\n",
              "      <th>MP</th>\n",
              "      <th>TC</th>\n",
              "      <th>IMPORTE</th>\n",
              "      <th>IVA</th>\n",
              "      <th>RET ISR</th>\n",
              "      <th>RET IVA</th>\n",
              "      <th>TOTAL MX</th>\n",
              "      <th>TOTAL SAT</th>\n",
              "      <th>TIPO</th>\n",
              "      <th>STATUS</th>\n",
              "      <th>POLIZA</th>\n",
              "    </tr>\n",
              "  </thead>\n",
              "  <tbody>\n",
              "    <tr>\n",
              "      <th>0</th>\n",
              "      <td>2021-01-01</td>\n",
              "      <td>0001010100750847116902</td>\n",
              "      <td>71B4C8B9-8DAA-47CC-AD47-9DD90AA5AF6B</td>\n",
              "      <td>BNM840515VB1</td>\n",
              "      <td>BANCO NACIONAL DE MEXICO, S.A.</td>\n",
              "      <td>COMISION BANCARIA</td>\n",
              "      <td>COMISION COBRADA</td>\n",
              "      <td>PUE</td>\n",
              "      <td>1.0</td>\n",
              "      <td>490.00</td>\n",
              "      <td>78.40</td>\n",
              "      <td>0.0</td>\n",
              "      <td>0.0</td>\n",
              "      <td>568.40</td>\n",
              "      <td>568.40</td>\n",
              "      <td>I</td>\n",
              "      <td>Vigente</td>\n",
              "      <td>0</td>\n",
              "    </tr>\n",
              "    <tr>\n",
              "      <th>1</th>\n",
              "      <td>2021-01-01</td>\n",
              "      <td>0001010100752163714102</td>\n",
              "      <td>B8AEDE83-CC76-404C-A611-6B5A87BA561F</td>\n",
              "      <td>BNM840515VB1</td>\n",
              "      <td>BANCO NACIONAL DE MEXICO, S.A.</td>\n",
              "      <td>COMISION BANCARIA</td>\n",
              "      <td>COMISION COBRADA</td>\n",
              "      <td>PUE</td>\n",
              "      <td>1.0</td>\n",
              "      <td>345.00</td>\n",
              "      <td>55.20</td>\n",
              "      <td>0.0</td>\n",
              "      <td>0.0</td>\n",
              "      <td>400.20</td>\n",
              "      <td>400.20</td>\n",
              "      <td>I</td>\n",
              "      <td>Vigente</td>\n",
              "      <td>0</td>\n",
              "    </tr>\n",
              "    <tr>\n",
              "      <th>2</th>\n",
              "      <td>2021-01-01</td>\n",
              "      <td>19788</td>\n",
              "      <td>19B9B2C2-DF58-E24D-B43A-3FC4D5A929E7</td>\n",
              "      <td>ESI9612311E7</td>\n",
              "      <td>ELECTRONICOS Y SIMILARES, S.A. DE C.V.</td>\n",
              "      <td>COMPRAS</td>\n",
              "      <td>MOTO E7 PLUS AZUL 64GB 4RAM</td>\n",
              "      <td>PUE</td>\n",
              "      <td>1.0</td>\n",
              "      <td>3447.41</td>\n",
              "      <td>551.59</td>\n",
              "      <td>0.0</td>\n",
              "      <td>0.0</td>\n",
              "      <td>3999.00</td>\n",
              "      <td>3999.00</td>\n",
              "      <td>I</td>\n",
              "      <td>Vigente</td>\n",
              "      <td>0</td>\n",
              "    </tr>\n",
              "    <tr>\n",
              "      <th>3</th>\n",
              "      <td>2021-01-01</td>\n",
              "      <td>211781</td>\n",
              "      <td>EAB26414-DD9A-4E8F-9F5C-05FE24D98E48</td>\n",
              "      <td>BLE1512082R9</td>\n",
              "      <td>BEPENSA LEASING S.A. DE C.V.</td>\n",
              "      <td>ARRENDAMIENTO FINANCIERO</td>\n",
              "      <td>AA RENTA EXIGIBLE CL0000006876 6/36 de 03/12/2...</td>\n",
              "      <td>PPD</td>\n",
              "      <td>1.0</td>\n",
              "      <td>5551.38</td>\n",
              "      <td>888.22</td>\n",
              "      <td>0.0</td>\n",
              "      <td>0.0</td>\n",
              "      <td>6439.60</td>\n",
              "      <td>6439.60</td>\n",
              "      <td>I</td>\n",
              "      <td>Vigente</td>\n",
              "      <td>0</td>\n",
              "    </tr>\n",
              "    <tr>\n",
              "      <th>4</th>\n",
              "      <td>2021-01-01</td>\n",
              "      <td>211782</td>\n",
              "      <td>C16F79B5-FB35-4BFC-AF84-708B24F500BB</td>\n",
              "      <td>BLE1512082R9</td>\n",
              "      <td>BEPENSA LEASING S.A. DE C.V.</td>\n",
              "      <td>ARRENDAMIENTO FINANCIERO</td>\n",
              "      <td>AA RENTA EXIGIBLE CL0000006877 6/36 de 03/12/2...</td>\n",
              "      <td>PPD</td>\n",
              "      <td>1.0</td>\n",
              "      <td>5551.98</td>\n",
              "      <td>888.32</td>\n",
              "      <td>0.0</td>\n",
              "      <td>0.0</td>\n",
              "      <td>6440.30</td>\n",
              "      <td>6440.30</td>\n",
              "      <td>I</td>\n",
              "      <td>Vigente</td>\n",
              "      <td>0</td>\n",
              "    </tr>\n",
              "    <tr>\n",
              "      <th>...</th>\n",
              "      <td>...</td>\n",
              "      <td>...</td>\n",
              "      <td>...</td>\n",
              "      <td>...</td>\n",
              "      <td>...</td>\n",
              "      <td>...</td>\n",
              "      <td>...</td>\n",
              "      <td>...</td>\n",
              "      <td>...</td>\n",
              "      <td>...</td>\n",
              "      <td>...</td>\n",
              "      <td>...</td>\n",
              "      <td>...</td>\n",
              "      <td>...</td>\n",
              "      <td>...</td>\n",
              "      <td>...</td>\n",
              "      <td>...</td>\n",
              "      <td>...</td>\n",
              "    </tr>\n",
              "    <tr>\n",
              "      <th>3030</th>\n",
              "      <td>2021-12-01</td>\n",
              "      <td>127043</td>\n",
              "      <td>83F82167-0D14-144E-9D76-045C95F25DDD</td>\n",
              "      <td>PGM881128QIA</td>\n",
              "      <td>PROMOCIONES GRAFICAS MEXICANAS, S.A. DE C.V.</td>\n",
              "      <td>PUBLICIDAD</td>\n",
              "      <td>Pago</td>\n",
              "      <td>NaN</td>\n",
              "      <td>1.0</td>\n",
              "      <td>0.00</td>\n",
              "      <td>0.00</td>\n",
              "      <td>0.0</td>\n",
              "      <td>0.0</td>\n",
              "      <td>0.00</td>\n",
              "      <td>0.00</td>\n",
              "      <td>P</td>\n",
              "      <td>Vigente</td>\n",
              "      <td>NaN</td>\n",
              "    </tr>\n",
              "    <tr>\n",
              "      <th>3031</th>\n",
              "      <td>2021-12-01</td>\n",
              "      <td>11740</td>\n",
              "      <td>B1C60AE0-02BC-4A33-9513-A280F72B5D06</td>\n",
              "      <td>SME0510105C7</td>\n",
              "      <td>SPECTRIS MEXICO S DE RL DE CV</td>\n",
              "      <td>COMPRAS</td>\n",
              "      <td>INSULATED T/C WIRE</td>\n",
              "      <td>PUE</td>\n",
              "      <td>1.0</td>\n",
              "      <td>0.00</td>\n",
              "      <td>0.00</td>\n",
              "      <td>0.0</td>\n",
              "      <td>0.0</td>\n",
              "      <td>0.00</td>\n",
              "      <td>0.00</td>\n",
              "      <td>I</td>\n",
              "      <td>Vigente</td>\n",
              "      <td>NaN</td>\n",
              "    </tr>\n",
              "    <tr>\n",
              "      <th>3032</th>\n",
              "      <td>2021-12-01</td>\n",
              "      <td>1092957089</td>\n",
              "      <td>255F4A25-5753-4208-8F6B-0B59E5AE4741</td>\n",
              "      <td>BMN930209927</td>\n",
              "      <td>BANCO MERCANTIL DEL NORTE SA INSTITUCION DE BA...</td>\n",
              "      <td>COMISION BANCARIA</td>\n",
              "      <td>SERVICIOS BANCARIOS</td>\n",
              "      <td>PUE</td>\n",
              "      <td>1.0</td>\n",
              "      <td>22826.46</td>\n",
              "      <td>705.58</td>\n",
              "      <td>0.0</td>\n",
              "      <td>0.0</td>\n",
              "      <td>23532.04</td>\n",
              "      <td>23532.04</td>\n",
              "      <td>I</td>\n",
              "      <td>Vigente</td>\n",
              "      <td>NaN</td>\n",
              "    </tr>\n",
              "    <tr>\n",
              "      <th>3033</th>\n",
              "      <td>2021-12-01</td>\n",
              "      <td>747826</td>\n",
              "      <td>D8226E4F-9241-44C3-86A4-CDE9BC932528</td>\n",
              "      <td>BIN940223KE0</td>\n",
              "      <td>BANCO INVEX, S.A., INSTITUCION DE BANCA MULTIP...</td>\n",
              "      <td>COMISION BANCARIA</td>\n",
              "      <td>COMISIONES E INTERESES</td>\n",
              "      <td>PUE</td>\n",
              "      <td>1.0</td>\n",
              "      <td>0.00</td>\n",
              "      <td>0.00</td>\n",
              "      <td>0.0</td>\n",
              "      <td>0.0</td>\n",
              "      <td>0.00</td>\n",
              "      <td>0.00</td>\n",
              "      <td>I</td>\n",
              "      <td>Vigente</td>\n",
              "      <td>NaN</td>\n",
              "    </tr>\n",
              "    <tr>\n",
              "      <th>3034</th>\n",
              "      <td>2021-12-01</td>\n",
              "      <td>1227374</td>\n",
              "      <td>41770F35-39EF-41A4-8DF4-EE9586CF4549</td>\n",
              "      <td>EFE8908015L3</td>\n",
              "      <td>EFECTIVALE S. de R.L. de C.V.</td>\n",
              "      <td>GASOLINA</td>\n",
              "      <td>CONSUMOS DE COMBUSTIBLE DE MONEDEROS ELECTRONICOS</td>\n",
              "      <td>PUE</td>\n",
              "      <td>1.0</td>\n",
              "      <td>15656.15</td>\n",
              "      <td>0.00</td>\n",
              "      <td>0.0</td>\n",
              "      <td>0.0</td>\n",
              "      <td>15656.15</td>\n",
              "      <td>15656.15</td>\n",
              "      <td>I</td>\n",
              "      <td>Vigente</td>\n",
              "      <td>NaN</td>\n",
              "    </tr>\n",
              "  </tbody>\n",
              "</table>\n",
              "<p>3035 rows × 18 columns</p>\n",
              "</div>\n",
              "      <button class=\"colab-df-convert\" onclick=\"convertToInteractive('df-a809a9fb-810a-4f72-b22c-011eddef7cb8')\"\n",
              "              title=\"Convert this dataframe to an interactive table.\"\n",
              "              style=\"display:none;\">\n",
              "        \n",
              "  <svg xmlns=\"http://www.w3.org/2000/svg\" height=\"24px\"viewBox=\"0 0 24 24\"\n",
              "       width=\"24px\">\n",
              "    <path d=\"M0 0h24v24H0V0z\" fill=\"none\"/>\n",
              "    <path d=\"M18.56 5.44l.94 2.06.94-2.06 2.06-.94-2.06-.94-.94-2.06-.94 2.06-2.06.94zm-11 1L8.5 8.5l.94-2.06 2.06-.94-2.06-.94L8.5 2.5l-.94 2.06-2.06.94zm10 10l.94 2.06.94-2.06 2.06-.94-2.06-.94-.94-2.06-.94 2.06-2.06.94z\"/><path d=\"M17.41 7.96l-1.37-1.37c-.4-.4-.92-.59-1.43-.59-.52 0-1.04.2-1.43.59L10.3 9.45l-7.72 7.72c-.78.78-.78 2.05 0 2.83L4 21.41c.39.39.9.59 1.41.59.51 0 1.02-.2 1.41-.59l7.78-7.78 2.81-2.81c.8-.78.8-2.07 0-2.86zM5.41 20L4 18.59l7.72-7.72 1.47 1.35L5.41 20z\"/>\n",
              "  </svg>\n",
              "      </button>\n",
              "      \n",
              "  <style>\n",
              "    .colab-df-container {\n",
              "      display:flex;\n",
              "      flex-wrap:wrap;\n",
              "      gap: 12px;\n",
              "    }\n",
              "\n",
              "    .colab-df-convert {\n",
              "      background-color: #E8F0FE;\n",
              "      border: none;\n",
              "      border-radius: 50%;\n",
              "      cursor: pointer;\n",
              "      display: none;\n",
              "      fill: #1967D2;\n",
              "      height: 32px;\n",
              "      padding: 0 0 0 0;\n",
              "      width: 32px;\n",
              "    }\n",
              "\n",
              "    .colab-df-convert:hover {\n",
              "      background-color: #E2EBFA;\n",
              "      box-shadow: 0px 1px 2px rgba(60, 64, 67, 0.3), 0px 1px 3px 1px rgba(60, 64, 67, 0.15);\n",
              "      fill: #174EA6;\n",
              "    }\n",
              "\n",
              "    [theme=dark] .colab-df-convert {\n",
              "      background-color: #3B4455;\n",
              "      fill: #D2E3FC;\n",
              "    }\n",
              "\n",
              "    [theme=dark] .colab-df-convert:hover {\n",
              "      background-color: #434B5C;\n",
              "      box-shadow: 0px 1px 3px 1px rgba(0, 0, 0, 0.15);\n",
              "      filter: drop-shadow(0px 1px 2px rgba(0, 0, 0, 0.3));\n",
              "      fill: #FFFFFF;\n",
              "    }\n",
              "  </style>\n",
              "\n",
              "      <script>\n",
              "        const buttonEl =\n",
              "          document.querySelector('#df-a809a9fb-810a-4f72-b22c-011eddef7cb8 button.colab-df-convert');\n",
              "        buttonEl.style.display =\n",
              "          google.colab.kernel.accessAllowed ? 'block' : 'none';\n",
              "\n",
              "        async function convertToInteractive(key) {\n",
              "          const element = document.querySelector('#df-a809a9fb-810a-4f72-b22c-011eddef7cb8');\n",
              "          const dataTable =\n",
              "            await google.colab.kernel.invokeFunction('convertToInteractive',\n",
              "                                                     [key], {});\n",
              "          if (!dataTable) return;\n",
              "\n",
              "          const docLinkHtml = 'Like what you see? Visit the ' +\n",
              "            '<a target=\"_blank\" href=https://colab.research.google.com/notebooks/data_table.ipynb>data table notebook</a>'\n",
              "            + ' to learn more about interactive tables.';\n",
              "          element.innerHTML = '';\n",
              "          dataTable['output_type'] = 'display_data';\n",
              "          await google.colab.output.renderOutput(dataTable, element);\n",
              "          const docLink = document.createElement('div');\n",
              "          docLink.innerHTML = docLinkHtml;\n",
              "          element.appendChild(docLink);\n",
              "        }\n",
              "      </script>\n",
              "    </div>\n",
              "  </div>\n",
              "  "
            ]
          },
          "metadata": {},
          "execution_count": 15
        }
      ]
    },
    {
      "cell_type": "code",
      "source": [
        "#Identificar valores nulos por columna\n",
        "valores_nulos=gastosycostos2021.isnull().sum()\n",
        "valores_nulos"
      ],
      "metadata": {
        "colab": {
          "base_uri": "https://localhost:8080/"
        },
        "id": "D1lJMDyufcPk",
        "outputId": "73ffc49c-baf7-48fc-8b58-7d2cec97e1e4"
      },
      "execution_count": null,
      "outputs": [
        {
          "output_type": "execute_result",
          "data": {
            "text/plain": [
              "FECHA             0\n",
              "FOLIO           147\n",
              "UUID              0\n",
              "RFC               0\n",
              "PROVEEDOR         0\n",
              "TIPO GASTO        0\n",
              "DESCRIPCION       0\n",
              "MP              654\n",
              "TC                0\n",
              "IMPORTE           0\n",
              "IVA               0\n",
              "RET ISR           0\n",
              "RET IVA           0\n",
              "TOTAL MX          0\n",
              "TOTAL SAT         0\n",
              "TIPO              0\n",
              "STATUS            0\n",
              "POLIZA         2372\n",
              "dtype: int64"
            ]
          },
          "metadata": {},
          "execution_count": 16
        }
      ]
    },
    {
      "cell_type": "code",
      "source": [
        "#Identificar valores nulos por dataframe\n",
        "valores_nulos=gastosycostos2021.isnull().sum().sum()\n",
        "valores_nulos"
      ],
      "metadata": {
        "colab": {
          "base_uri": "https://localhost:8080/"
        },
        "id": "C6JFuUrAfm-3",
        "outputId": "877b92df-1ceb-4cec-9ba5-27fd1949b5fd"
      },
      "execution_count": null,
      "outputs": [
        {
          "output_type": "execute_result",
          "data": {
            "text/plain": [
              "3173"
            ]
          },
          "metadata": {},
          "execution_count": 17
        }
      ]
    },
    {
      "cell_type": "markdown",
      "source": [
        "### **Métodos de Sustitución de Valores Nulos**"
      ],
      "metadata": {
        "id": "Gz6ydbjKf7q-"
      }
    },
    {
      "cell_type": "code",
      "source": [
        "#Realizamos una copia del dataframe\n",
        "data21=gastosycostos2021.copy()"
      ],
      "metadata": {
        "id": "OhwGQfBLf_YX"
      },
      "execution_count": null,
      "outputs": []
    },
    {
      "cell_type": "code",
      "source": [
        "#Corroboramos valores nulos\n",
        "valores_nulos=data21.isnull().sum()\n",
        "valores_nulos"
      ],
      "metadata": {
        "colab": {
          "base_uri": "https://localhost:8080/"
        },
        "id": "r6UdSgyOgEyy",
        "outputId": "5fb3e30d-eec4-4151-d109-089171840014"
      },
      "execution_count": null,
      "outputs": [
        {
          "output_type": "execute_result",
          "data": {
            "text/plain": [
              "FECHA             0\n",
              "FOLIO           147\n",
              "UUID              0\n",
              "RFC               0\n",
              "PROVEEDOR         0\n",
              "TIPO GASTO        0\n",
              "DESCRIPCION       0\n",
              "MP              654\n",
              "TC                0\n",
              "IMPORTE           0\n",
              "IVA               0\n",
              "RET ISR           0\n",
              "RET IVA           0\n",
              "TOTAL MX          0\n",
              "TOTAL SAT         0\n",
              "TIPO              0\n",
              "STATUS            0\n",
              "POLIZA         2372\n",
              "dtype: int64"
            ]
          },
          "metadata": {},
          "execution_count": 19
        }
      ]
    },
    {
      "cell_type": "code",
      "source": [
        "#Sustituir valores nulos por un valor numérico en  concreto \n",
        "data21[\"FOLIO\"]= data21[\"FOLIO\"].fillna(0) \n",
        "#Corroboramos valores nulos\n",
        "valores_nulos=data21.isnull().sum()\n",
        "valores_nulos"
      ],
      "metadata": {
        "colab": {
          "base_uri": "https://localhost:8080/"
        },
        "id": "6ieNaIuxgIbw",
        "outputId": "cfa72f39-350a-4533-f20e-a6ea00f9a837"
      },
      "execution_count": null,
      "outputs": [
        {
          "output_type": "execute_result",
          "data": {
            "text/plain": [
              "FECHA             0\n",
              "FOLIO             0\n",
              "UUID              0\n",
              "RFC               0\n",
              "PROVEEDOR         0\n",
              "TIPO GASTO        0\n",
              "DESCRIPCION       0\n",
              "MP              654\n",
              "TC                0\n",
              "IMPORTE           0\n",
              "IVA               0\n",
              "RET ISR           0\n",
              "RET IVA           0\n",
              "TOTAL MX          0\n",
              "TOTAL SAT         0\n",
              "TIPO              0\n",
              "STATUS            0\n",
              "POLIZA         2372\n",
              "dtype: int64"
            ]
          },
          "metadata": {},
          "execution_count": 20
        }
      ]
    },
    {
      "cell_type": "code",
      "source": [
        "#Sustituir valores nulos por un valor numérico en  concreto \n",
        "data21[\"MP\"]= data21[\"MP\"].fillna('PUE') \n",
        "#Corroboramos valores nulos\n",
        "valores_nulos=data21.isnull().sum()\n",
        "valores_nulos"
      ],
      "metadata": {
        "colab": {
          "base_uri": "https://localhost:8080/"
        },
        "id": "Ym_wf9yahhyj",
        "outputId": "8330c7a6-1214-4817-9387-a921269fc331"
      },
      "execution_count": null,
      "outputs": [
        {
          "output_type": "execute_result",
          "data": {
            "text/plain": [
              "FECHA             0\n",
              "FOLIO             0\n",
              "UUID              0\n",
              "RFC               0\n",
              "PROVEEDOR         0\n",
              "TIPO GASTO        0\n",
              "DESCRIPCION       0\n",
              "MP                0\n",
              "TC                0\n",
              "IMPORTE           0\n",
              "IVA               0\n",
              "RET ISR           0\n",
              "RET IVA           0\n",
              "TOTAL MX          0\n",
              "TOTAL SAT         0\n",
              "TIPO              0\n",
              "STATUS            0\n",
              "POLIZA         2372\n",
              "dtype: int64"
            ]
          },
          "metadata": {},
          "execution_count": 21
        }
      ]
    },
    {
      "cell_type": "code",
      "source": [
        "#Sustituir valores nulos por un valor numérico en  concreto \n",
        "data20[\"POLIZA\"]= data20[\"POLIZA\"].fillna('SIN POLIZA') \n",
        "#Corroboramos valores nulos\n",
        "valores_nulos=data20.isnull().sum()\n",
        "valores_nulos"
      ],
      "metadata": {
        "colab": {
          "base_uri": "https://localhost:8080/"
        },
        "id": "PxtEFHTUiZWJ",
        "outputId": "b4a80cdb-f3ca-4861-dbb3-d9f53c0a773c"
      },
      "execution_count": null,
      "outputs": [
        {
          "output_type": "execute_result",
          "data": {
            "text/plain": [
              "FECHA          0\n",
              "FOLIO          0\n",
              "UUID           0\n",
              "RFC            0\n",
              "PROVEEDOR      0\n",
              "TIPO GASTO     0\n",
              "GASTO          0\n",
              "DESCRIPCION    0\n",
              "TC             0\n",
              "IMPORTE        0\n",
              "IVA            0\n",
              "RET ISR        0\n",
              "RET IVA        0\n",
              "TOTAL MX       0\n",
              "TOTAL SAT      0\n",
              "TIPO           0\n",
              "STATUS         0\n",
              "POLIZA         0\n",
              "Columna1       0\n",
              "dtype: int64"
            ]
          },
          "metadata": {},
          "execution_count": 22
        }
      ]
    },
    {
      "cell_type": "markdown",
      "source": [
        "# 2022"
      ],
      "metadata": {
        "id": "RByBYArEjiLN"
      }
    },
    {
      "cell_type": "code",
      "source": [
        "#Carga desde un archivo\n",
        "gastosycostos2022= pd.read_excel('Gastos y costos 20-23.xlsx', sheet_name='2022',)\n",
        "gastosycostos2022"
      ],
      "metadata": {
        "colab": {
          "base_uri": "https://localhost:8080/",
          "height": 1000
        },
        "id": "Sqg2dAmYjkyw",
        "outputId": "84cb7afa-26cb-41f2-9eac-4841159e2407"
      },
      "execution_count": null,
      "outputs": [
        {
          "output_type": "execute_result",
          "data": {
            "text/plain": [
              "          Fecha         Folio                                  UUID  \\\n",
              "0    2022-01-01        280108  9DA0E63F-1D47-441F-93D7-C2E05AE4D35E   \n",
              "1    2022-01-01        280109  7E00E776-A839-4D57-B291-411109164B2F   \n",
              "2    2022-01-01  007817297284  BB6585C1-3B54-4130-AFD0-1867C3764821   \n",
              "3    2022-01-01          5595  B5E4B4EB-6C2F-11EC-BB9D-00155D014009   \n",
              "4    2022-01-01          5614  BB6756D1-6CCD-11EC-947D-00155D014407   \n",
              "...         ...           ...                                   ...   \n",
              "2572 2022-12-01        863376  E90DA089-3C3B-45C8-A19C-B8810D222F60   \n",
              "2573 2022-12-01    1092957089  D720ED7C-F370-4236-B269-8873ABB78745   \n",
              "2574 2022-12-01             4  0AFD3EB5-F3DD-43EB-B9FA-79D793CFF417   \n",
              "2575 2022-12-01            16  E3CA1DA8-581A-5844-80D2-CF0317B3BBEA   \n",
              "2576 2022-12-01            17  17178BA2-9CCE-54F8-A4B8-3E5F98D4DB8E   \n",
              "\n",
              "                RFC                                          Proveedor  \\\n",
              "0      BLE1512082R9                       BEPENSA LEASING S.A. DE C.V.   \n",
              "1      BLE1512082R9                       BEPENSA LEASING S.A. DE C.V.   \n",
              "2      BNM840515VB1                     BANCO NACIONAL DE MEXICO, S.A.   \n",
              "3     ZEGC530520V4A                   CARLOS ENRIQUE ZERMEÑO GUTIERREZ   \n",
              "4     ZEGC530520V4A                   CARLOS ENRIQUE ZERMEÑO GUTIERREZ   \n",
              "...             ...                                                ...   \n",
              "2572   BIN940223KE0  BANCO INVEX, S.A., INSTITUCION DE BANCA MULTIP...   \n",
              "2573   BMN930209927  BANCO MERCANTIL DEL NORTE SA INSTITUCION DE BA...   \n",
              "2574   AAE6411055P8               Aesa Articulos Electricos S.A de C.V   \n",
              "2575   AAE6411055P8                          AESA ARTICULOS ELECTRICOS   \n",
              "2576   AAE6411055P8                          AESA ARTICULOS ELECTRICOS   \n",
              "\n",
              "                    TIPO GASTO  \\\n",
              "0     ARRENDAMIENTO FINANCIERO   \n",
              "1     ARRENDAMIENTO FINANCIERO   \n",
              "2            COMISION BANCARIA   \n",
              "3                      COMPRAS   \n",
              "4                      COMPRAS   \n",
              "...                        ...   \n",
              "2572         COMISION BANCARIA   \n",
              "2573         COMISION BANCARIA   \n",
              "2574                   COMPRAS   \n",
              "2575                   COMPRAS   \n",
              "2576                   COMPRAS   \n",
              "\n",
              "                                            Descripción   MP   TC   Importe  \\\n",
              "0     AA RENTA EXIGIBLE CL0000006876 18/36 de 03/12/...  PPD  1.0   5551.38   \n",
              "1     AA RENTA EXIGIBLE CL0000006877 18/36 de 03/12/...  PPD  1.0   5551.98   \n",
              "2                              Servicios de Facturación  PUE  1.0      0.00   \n",
              "3                                                  Pago  NaN  1.0      0.00   \n",
              "4                                                  Pago  NaN  1.0      0.00   \n",
              "...                                                 ...  ...  ...       ...   \n",
              "2572                             COMISIONES E INTERESES  PUE  1.0      0.00   \n",
              "2573                                SERVICIOS BANCARIOS  PUE  1.0  17310.30   \n",
              "2574                                               Pago  NaN  NaN      0.00   \n",
              "2575                                               Pago  NaN  NaN      0.00   \n",
              "2576                                               Pago  NaN  NaN      0.00   \n",
              "\n",
              "         IVA  RET ISR  RET IVA  Otros  TOTAL MX  TOTAL SAT Tipo   Status  \\\n",
              "0     888.22      0.0      0.0    NaN   6439.60    6439.60    I  Vigente   \n",
              "1     888.32      0.0      0.0    NaN   6440.30    6440.30    I  Vigente   \n",
              "2       0.00      0.0      0.0    NaN      0.00       0.00    I  Vigente   \n",
              "3       0.00      0.0      0.0    NaN      0.00       0.00    P  Vigente   \n",
              "4       0.00      0.0      0.0    NaN      0.00       0.00    P  Vigente   \n",
              "...      ...      ...      ...    ...       ...        ...  ...      ...   \n",
              "2572    0.00      0.0      0.0    NaN      0.00       0.00    I  Vigente   \n",
              "2573  516.32      0.0      0.0    NaN  17826.62   17826.62    I  Vigente   \n",
              "2574    0.00      0.0      0.0    NaN      0.00       0.00    P  Vigente   \n",
              "2575    0.00      0.0      0.0    NaN      0.00       0.00    P  Vigente   \n",
              "2576    0.00      0.0      0.0    NaN      0.00       0.00    P  Vigente   \n",
              "\n",
              "          Poliza  \n",
              "0     PE02-ENE22  \n",
              "1     PE03-ENE22  \n",
              "2            NaN  \n",
              "3            NaN  \n",
              "4            NaN  \n",
              "...          ...  \n",
              "2572         NaN  \n",
              "2573         NaN  \n",
              "2574         NaN  \n",
              "2575         NaN  \n",
              "2576         NaN  \n",
              "\n",
              "[2577 rows x 19 columns]"
            ],
            "text/html": [
              "\n",
              "  <div id=\"df-fc1583b6-1b6f-404e-bbea-e0b95058d075\">\n",
              "    <div class=\"colab-df-container\">\n",
              "      <div>\n",
              "<style scoped>\n",
              "    .dataframe tbody tr th:only-of-type {\n",
              "        vertical-align: middle;\n",
              "    }\n",
              "\n",
              "    .dataframe tbody tr th {\n",
              "        vertical-align: top;\n",
              "    }\n",
              "\n",
              "    .dataframe thead th {\n",
              "        text-align: right;\n",
              "    }\n",
              "</style>\n",
              "<table border=\"1\" class=\"dataframe\">\n",
              "  <thead>\n",
              "    <tr style=\"text-align: right;\">\n",
              "      <th></th>\n",
              "      <th>Fecha</th>\n",
              "      <th>Folio</th>\n",
              "      <th>UUID</th>\n",
              "      <th>RFC</th>\n",
              "      <th>Proveedor</th>\n",
              "      <th>TIPO GASTO</th>\n",
              "      <th>Descripción</th>\n",
              "      <th>MP</th>\n",
              "      <th>TC</th>\n",
              "      <th>Importe</th>\n",
              "      <th>IVA</th>\n",
              "      <th>RET ISR</th>\n",
              "      <th>RET IVA</th>\n",
              "      <th>Otros</th>\n",
              "      <th>TOTAL MX</th>\n",
              "      <th>TOTAL SAT</th>\n",
              "      <th>Tipo</th>\n",
              "      <th>Status</th>\n",
              "      <th>Poliza</th>\n",
              "    </tr>\n",
              "  </thead>\n",
              "  <tbody>\n",
              "    <tr>\n",
              "      <th>0</th>\n",
              "      <td>2022-01-01</td>\n",
              "      <td>280108</td>\n",
              "      <td>9DA0E63F-1D47-441F-93D7-C2E05AE4D35E</td>\n",
              "      <td>BLE1512082R9</td>\n",
              "      <td>BEPENSA LEASING S.A. DE C.V.</td>\n",
              "      <td>ARRENDAMIENTO FINANCIERO</td>\n",
              "      <td>AA RENTA EXIGIBLE CL0000006876 18/36 de 03/12/...</td>\n",
              "      <td>PPD</td>\n",
              "      <td>1.0</td>\n",
              "      <td>5551.38</td>\n",
              "      <td>888.22</td>\n",
              "      <td>0.0</td>\n",
              "      <td>0.0</td>\n",
              "      <td>NaN</td>\n",
              "      <td>6439.60</td>\n",
              "      <td>6439.60</td>\n",
              "      <td>I</td>\n",
              "      <td>Vigente</td>\n",
              "      <td>PE02-ENE22</td>\n",
              "    </tr>\n",
              "    <tr>\n",
              "      <th>1</th>\n",
              "      <td>2022-01-01</td>\n",
              "      <td>280109</td>\n",
              "      <td>7E00E776-A839-4D57-B291-411109164B2F</td>\n",
              "      <td>BLE1512082R9</td>\n",
              "      <td>BEPENSA LEASING S.A. DE C.V.</td>\n",
              "      <td>ARRENDAMIENTO FINANCIERO</td>\n",
              "      <td>AA RENTA EXIGIBLE CL0000006877 18/36 de 03/12/...</td>\n",
              "      <td>PPD</td>\n",
              "      <td>1.0</td>\n",
              "      <td>5551.98</td>\n",
              "      <td>888.32</td>\n",
              "      <td>0.0</td>\n",
              "      <td>0.0</td>\n",
              "      <td>NaN</td>\n",
              "      <td>6440.30</td>\n",
              "      <td>6440.30</td>\n",
              "      <td>I</td>\n",
              "      <td>Vigente</td>\n",
              "      <td>PE03-ENE22</td>\n",
              "    </tr>\n",
              "    <tr>\n",
              "      <th>2</th>\n",
              "      <td>2022-01-01</td>\n",
              "      <td>007817297284</td>\n",
              "      <td>BB6585C1-3B54-4130-AFD0-1867C3764821</td>\n",
              "      <td>BNM840515VB1</td>\n",
              "      <td>BANCO NACIONAL DE MEXICO, S.A.</td>\n",
              "      <td>COMISION BANCARIA</td>\n",
              "      <td>Servicios de Facturación</td>\n",
              "      <td>PUE</td>\n",
              "      <td>1.0</td>\n",
              "      <td>0.00</td>\n",
              "      <td>0.00</td>\n",
              "      <td>0.0</td>\n",
              "      <td>0.0</td>\n",
              "      <td>NaN</td>\n",
              "      <td>0.00</td>\n",
              "      <td>0.00</td>\n",
              "      <td>I</td>\n",
              "      <td>Vigente</td>\n",
              "      <td>NaN</td>\n",
              "    </tr>\n",
              "    <tr>\n",
              "      <th>3</th>\n",
              "      <td>2022-01-01</td>\n",
              "      <td>5595</td>\n",
              "      <td>B5E4B4EB-6C2F-11EC-BB9D-00155D014009</td>\n",
              "      <td>ZEGC530520V4A</td>\n",
              "      <td>CARLOS ENRIQUE ZERMEÑO GUTIERREZ</td>\n",
              "      <td>COMPRAS</td>\n",
              "      <td>Pago</td>\n",
              "      <td>NaN</td>\n",
              "      <td>1.0</td>\n",
              "      <td>0.00</td>\n",
              "      <td>0.00</td>\n",
              "      <td>0.0</td>\n",
              "      <td>0.0</td>\n",
              "      <td>NaN</td>\n",
              "      <td>0.00</td>\n",
              "      <td>0.00</td>\n",
              "      <td>P</td>\n",
              "      <td>Vigente</td>\n",
              "      <td>NaN</td>\n",
              "    </tr>\n",
              "    <tr>\n",
              "      <th>4</th>\n",
              "      <td>2022-01-01</td>\n",
              "      <td>5614</td>\n",
              "      <td>BB6756D1-6CCD-11EC-947D-00155D014407</td>\n",
              "      <td>ZEGC530520V4A</td>\n",
              "      <td>CARLOS ENRIQUE ZERMEÑO GUTIERREZ</td>\n",
              "      <td>COMPRAS</td>\n",
              "      <td>Pago</td>\n",
              "      <td>NaN</td>\n",
              "      <td>1.0</td>\n",
              "      <td>0.00</td>\n",
              "      <td>0.00</td>\n",
              "      <td>0.0</td>\n",
              "      <td>0.0</td>\n",
              "      <td>NaN</td>\n",
              "      <td>0.00</td>\n",
              "      <td>0.00</td>\n",
              "      <td>P</td>\n",
              "      <td>Vigente</td>\n",
              "      <td>NaN</td>\n",
              "    </tr>\n",
              "    <tr>\n",
              "      <th>...</th>\n",
              "      <td>...</td>\n",
              "      <td>...</td>\n",
              "      <td>...</td>\n",
              "      <td>...</td>\n",
              "      <td>...</td>\n",
              "      <td>...</td>\n",
              "      <td>...</td>\n",
              "      <td>...</td>\n",
              "      <td>...</td>\n",
              "      <td>...</td>\n",
              "      <td>...</td>\n",
              "      <td>...</td>\n",
              "      <td>...</td>\n",
              "      <td>...</td>\n",
              "      <td>...</td>\n",
              "      <td>...</td>\n",
              "      <td>...</td>\n",
              "      <td>...</td>\n",
              "      <td>...</td>\n",
              "    </tr>\n",
              "    <tr>\n",
              "      <th>2572</th>\n",
              "      <td>2022-12-01</td>\n",
              "      <td>863376</td>\n",
              "      <td>E90DA089-3C3B-45C8-A19C-B8810D222F60</td>\n",
              "      <td>BIN940223KE0</td>\n",
              "      <td>BANCO INVEX, S.A., INSTITUCION DE BANCA MULTIP...</td>\n",
              "      <td>COMISION BANCARIA</td>\n",
              "      <td>COMISIONES E INTERESES</td>\n",
              "      <td>PUE</td>\n",
              "      <td>1.0</td>\n",
              "      <td>0.00</td>\n",
              "      <td>0.00</td>\n",
              "      <td>0.0</td>\n",
              "      <td>0.0</td>\n",
              "      <td>NaN</td>\n",
              "      <td>0.00</td>\n",
              "      <td>0.00</td>\n",
              "      <td>I</td>\n",
              "      <td>Vigente</td>\n",
              "      <td>NaN</td>\n",
              "    </tr>\n",
              "    <tr>\n",
              "      <th>2573</th>\n",
              "      <td>2022-12-01</td>\n",
              "      <td>1092957089</td>\n",
              "      <td>D720ED7C-F370-4236-B269-8873ABB78745</td>\n",
              "      <td>BMN930209927</td>\n",
              "      <td>BANCO MERCANTIL DEL NORTE SA INSTITUCION DE BA...</td>\n",
              "      <td>COMISION BANCARIA</td>\n",
              "      <td>SERVICIOS BANCARIOS</td>\n",
              "      <td>PUE</td>\n",
              "      <td>1.0</td>\n",
              "      <td>17310.30</td>\n",
              "      <td>516.32</td>\n",
              "      <td>0.0</td>\n",
              "      <td>0.0</td>\n",
              "      <td>NaN</td>\n",
              "      <td>17826.62</td>\n",
              "      <td>17826.62</td>\n",
              "      <td>I</td>\n",
              "      <td>Vigente</td>\n",
              "      <td>NaN</td>\n",
              "    </tr>\n",
              "    <tr>\n",
              "      <th>2574</th>\n",
              "      <td>2022-12-01</td>\n",
              "      <td>4</td>\n",
              "      <td>0AFD3EB5-F3DD-43EB-B9FA-79D793CFF417</td>\n",
              "      <td>AAE6411055P8</td>\n",
              "      <td>Aesa Articulos Electricos S.A de C.V</td>\n",
              "      <td>COMPRAS</td>\n",
              "      <td>Pago</td>\n",
              "      <td>NaN</td>\n",
              "      <td>NaN</td>\n",
              "      <td>0.00</td>\n",
              "      <td>0.00</td>\n",
              "      <td>0.0</td>\n",
              "      <td>0.0</td>\n",
              "      <td>NaN</td>\n",
              "      <td>0.00</td>\n",
              "      <td>0.00</td>\n",
              "      <td>P</td>\n",
              "      <td>Vigente</td>\n",
              "      <td>NaN</td>\n",
              "    </tr>\n",
              "    <tr>\n",
              "      <th>2575</th>\n",
              "      <td>2022-12-01</td>\n",
              "      <td>16</td>\n",
              "      <td>E3CA1DA8-581A-5844-80D2-CF0317B3BBEA</td>\n",
              "      <td>AAE6411055P8</td>\n",
              "      <td>AESA ARTICULOS ELECTRICOS</td>\n",
              "      <td>COMPRAS</td>\n",
              "      <td>Pago</td>\n",
              "      <td>NaN</td>\n",
              "      <td>NaN</td>\n",
              "      <td>0.00</td>\n",
              "      <td>0.00</td>\n",
              "      <td>0.0</td>\n",
              "      <td>0.0</td>\n",
              "      <td>NaN</td>\n",
              "      <td>0.00</td>\n",
              "      <td>0.00</td>\n",
              "      <td>P</td>\n",
              "      <td>Vigente</td>\n",
              "      <td>NaN</td>\n",
              "    </tr>\n",
              "    <tr>\n",
              "      <th>2576</th>\n",
              "      <td>2022-12-01</td>\n",
              "      <td>17</td>\n",
              "      <td>17178BA2-9CCE-54F8-A4B8-3E5F98D4DB8E</td>\n",
              "      <td>AAE6411055P8</td>\n",
              "      <td>AESA ARTICULOS ELECTRICOS</td>\n",
              "      <td>COMPRAS</td>\n",
              "      <td>Pago</td>\n",
              "      <td>NaN</td>\n",
              "      <td>NaN</td>\n",
              "      <td>0.00</td>\n",
              "      <td>0.00</td>\n",
              "      <td>0.0</td>\n",
              "      <td>0.0</td>\n",
              "      <td>NaN</td>\n",
              "      <td>0.00</td>\n",
              "      <td>0.00</td>\n",
              "      <td>P</td>\n",
              "      <td>Vigente</td>\n",
              "      <td>NaN</td>\n",
              "    </tr>\n",
              "  </tbody>\n",
              "</table>\n",
              "<p>2577 rows × 19 columns</p>\n",
              "</div>\n",
              "      <button class=\"colab-df-convert\" onclick=\"convertToInteractive('df-fc1583b6-1b6f-404e-bbea-e0b95058d075')\"\n",
              "              title=\"Convert this dataframe to an interactive table.\"\n",
              "              style=\"display:none;\">\n",
              "        \n",
              "  <svg xmlns=\"http://www.w3.org/2000/svg\" height=\"24px\"viewBox=\"0 0 24 24\"\n",
              "       width=\"24px\">\n",
              "    <path d=\"M0 0h24v24H0V0z\" fill=\"none\"/>\n",
              "    <path d=\"M18.56 5.44l.94 2.06.94-2.06 2.06-.94-2.06-.94-.94-2.06-.94 2.06-2.06.94zm-11 1L8.5 8.5l.94-2.06 2.06-.94-2.06-.94L8.5 2.5l-.94 2.06-2.06.94zm10 10l.94 2.06.94-2.06 2.06-.94-2.06-.94-.94-2.06-.94 2.06-2.06.94z\"/><path d=\"M17.41 7.96l-1.37-1.37c-.4-.4-.92-.59-1.43-.59-.52 0-1.04.2-1.43.59L10.3 9.45l-7.72 7.72c-.78.78-.78 2.05 0 2.83L4 21.41c.39.39.9.59 1.41.59.51 0 1.02-.2 1.41-.59l7.78-7.78 2.81-2.81c.8-.78.8-2.07 0-2.86zM5.41 20L4 18.59l7.72-7.72 1.47 1.35L5.41 20z\"/>\n",
              "  </svg>\n",
              "      </button>\n",
              "      \n",
              "  <style>\n",
              "    .colab-df-container {\n",
              "      display:flex;\n",
              "      flex-wrap:wrap;\n",
              "      gap: 12px;\n",
              "    }\n",
              "\n",
              "    .colab-df-convert {\n",
              "      background-color: #E8F0FE;\n",
              "      border: none;\n",
              "      border-radius: 50%;\n",
              "      cursor: pointer;\n",
              "      display: none;\n",
              "      fill: #1967D2;\n",
              "      height: 32px;\n",
              "      padding: 0 0 0 0;\n",
              "      width: 32px;\n",
              "    }\n",
              "\n",
              "    .colab-df-convert:hover {\n",
              "      background-color: #E2EBFA;\n",
              "      box-shadow: 0px 1px 2px rgba(60, 64, 67, 0.3), 0px 1px 3px 1px rgba(60, 64, 67, 0.15);\n",
              "      fill: #174EA6;\n",
              "    }\n",
              "\n",
              "    [theme=dark] .colab-df-convert {\n",
              "      background-color: #3B4455;\n",
              "      fill: #D2E3FC;\n",
              "    }\n",
              "\n",
              "    [theme=dark] .colab-df-convert:hover {\n",
              "      background-color: #434B5C;\n",
              "      box-shadow: 0px 1px 3px 1px rgba(0, 0, 0, 0.15);\n",
              "      filter: drop-shadow(0px 1px 2px rgba(0, 0, 0, 0.3));\n",
              "      fill: #FFFFFF;\n",
              "    }\n",
              "  </style>\n",
              "\n",
              "      <script>\n",
              "        const buttonEl =\n",
              "          document.querySelector('#df-fc1583b6-1b6f-404e-bbea-e0b95058d075 button.colab-df-convert');\n",
              "        buttonEl.style.display =\n",
              "          google.colab.kernel.accessAllowed ? 'block' : 'none';\n",
              "\n",
              "        async function convertToInteractive(key) {\n",
              "          const element = document.querySelector('#df-fc1583b6-1b6f-404e-bbea-e0b95058d075');\n",
              "          const dataTable =\n",
              "            await google.colab.kernel.invokeFunction('convertToInteractive',\n",
              "                                                     [key], {});\n",
              "          if (!dataTable) return;\n",
              "\n",
              "          const docLinkHtml = 'Like what you see? Visit the ' +\n",
              "            '<a target=\"_blank\" href=https://colab.research.google.com/notebooks/data_table.ipynb>data table notebook</a>'\n",
              "            + ' to learn more about interactive tables.';\n",
              "          element.innerHTML = '';\n",
              "          dataTable['output_type'] = 'display_data';\n",
              "          await google.colab.output.renderOutput(dataTable, element);\n",
              "          const docLink = document.createElement('div');\n",
              "          docLink.innerHTML = docLinkHtml;\n",
              "          element.appendChild(docLink);\n",
              "        }\n",
              "      </script>\n",
              "    </div>\n",
              "  </div>\n",
              "  "
            ]
          },
          "metadata": {},
          "execution_count": 23
        }
      ]
    },
    {
      "cell_type": "code",
      "source": [
        "#Identificar valores nulos por columna\n",
        "valores_nulos=gastosycostos2022.isnull().sum()\n",
        "valores_nulos"
      ],
      "metadata": {
        "colab": {
          "base_uri": "https://localhost:8080/"
        },
        "id": "ChrWJ5GBjp_P",
        "outputId": "ff9f306a-94ff-4537-c01a-673ea9f2e48d"
      },
      "execution_count": null,
      "outputs": [
        {
          "output_type": "execute_result",
          "data": {
            "text/plain": [
              "Fecha             0\n",
              "Folio           102\n",
              "UUID              0\n",
              "RFC               0\n",
              "Proveedor         0\n",
              "TIPO GASTO        0\n",
              "Descripción       0\n",
              "MP              553\n",
              "TC              636\n",
              "Importe           0\n",
              "IVA               0\n",
              "RET ISR           0\n",
              "RET IVA           0\n",
              "Otros          2577\n",
              "TOTAL MX          0\n",
              "TOTAL SAT         0\n",
              "Tipo              0\n",
              "Status            0\n",
              "Poliza          801\n",
              "dtype: int64"
            ]
          },
          "metadata": {},
          "execution_count": 24
        }
      ]
    },
    {
      "cell_type": "code",
      "source": [
        "#Identificar valores nulos por dataframe\n",
        "valores_nulos=gastosycostos2022.isnull().sum().sum()\n",
        "valores_nulos"
      ],
      "metadata": {
        "colab": {
          "base_uri": "https://localhost:8080/"
        },
        "id": "ojd5cBYmjxlC",
        "outputId": "387f6866-8bfc-429b-8bca-3600a6a4c41a"
      },
      "execution_count": null,
      "outputs": [
        {
          "output_type": "execute_result",
          "data": {
            "text/plain": [
              "4669"
            ]
          },
          "metadata": {},
          "execution_count": 25
        }
      ]
    },
    {
      "cell_type": "markdown",
      "source": [
        "### **Métodos de Sustitución de Valores Nulos**"
      ],
      "metadata": {
        "id": "iu_8Q1-Nj3T9"
      }
    },
    {
      "cell_type": "code",
      "source": [
        "#Realizamos una copia del dataframe\n",
        "data22=gastosycostos2022.copy()"
      ],
      "metadata": {
        "id": "G5j8dgU3j4hw"
      },
      "execution_count": null,
      "outputs": []
    },
    {
      "cell_type": "code",
      "source": [
        "#Corroboramos valores nulos\n",
        "valores_nulos=data22.isnull().sum()\n",
        "valores_nulos"
      ],
      "metadata": {
        "colab": {
          "base_uri": "https://localhost:8080/"
        },
        "id": "_3GlEHQ6j8KU",
        "outputId": "f3b7f6ad-4d0e-4666-8178-0bb07083c87e"
      },
      "execution_count": null,
      "outputs": [
        {
          "output_type": "execute_result",
          "data": {
            "text/plain": [
              "Fecha             0\n",
              "Folio           102\n",
              "UUID              0\n",
              "RFC               0\n",
              "Proveedor         0\n",
              "TIPO GASTO        0\n",
              "Descripción       0\n",
              "MP              553\n",
              "TC              636\n",
              "Importe           0\n",
              "IVA               0\n",
              "RET ISR           0\n",
              "RET IVA           0\n",
              "Otros          2577\n",
              "TOTAL MX          0\n",
              "TOTAL SAT         0\n",
              "Tipo              0\n",
              "Status            0\n",
              "Poliza          801\n",
              "dtype: int64"
            ]
          },
          "metadata": {},
          "execution_count": 27
        }
      ]
    },
    {
      "cell_type": "code",
      "source": [
        "#Sustituir valores nulos por un valor numérico en  concreto \n",
        "data22[\"Folio\"]= data22[\"Folio\"].fillna(0) \n",
        "#Corroboramos valores nulos\n",
        "valores_nulos=data22.isnull().sum()\n",
        "valores_nulos"
      ],
      "metadata": {
        "colab": {
          "base_uri": "https://localhost:8080/"
        },
        "id": "f4ZVNgEskOj_",
        "outputId": "e3175ee1-390c-421f-f590-6a386728773a"
      },
      "execution_count": null,
      "outputs": [
        {
          "output_type": "execute_result",
          "data": {
            "text/plain": [
              "Fecha             0\n",
              "Folio             0\n",
              "UUID              0\n",
              "RFC               0\n",
              "Proveedor         0\n",
              "TIPO GASTO        0\n",
              "Descripción       0\n",
              "MP              553\n",
              "TC              636\n",
              "Importe           0\n",
              "IVA               0\n",
              "RET ISR           0\n",
              "RET IVA           0\n",
              "Otros          2577\n",
              "TOTAL MX          0\n",
              "TOTAL SAT         0\n",
              "Tipo              0\n",
              "Status            0\n",
              "Poliza          801\n",
              "dtype: int64"
            ]
          },
          "metadata": {},
          "execution_count": 28
        }
      ]
    },
    {
      "cell_type": "code",
      "source": [
        "#Sustituir valores nulos por un valor numérico en  concreto \n",
        "data22[\"MP\"]= data22[\"MP\"].fillna('PUE') \n",
        "#Corroboramos valores nulos\n",
        "valores_nulos=data22.isnull().sum()\n",
        "valores_nulos"
      ],
      "metadata": {
        "colab": {
          "base_uri": "https://localhost:8080/"
        },
        "id": "re2mawdikcks",
        "outputId": "4bcccabe-40fb-4660-9e76-597e153c19c5"
      },
      "execution_count": null,
      "outputs": [
        {
          "output_type": "execute_result",
          "data": {
            "text/plain": [
              "Fecha             0\n",
              "Folio             0\n",
              "UUID              0\n",
              "RFC               0\n",
              "Proveedor         0\n",
              "TIPO GASTO        0\n",
              "Descripción       0\n",
              "MP                0\n",
              "TC              636\n",
              "Importe           0\n",
              "IVA               0\n",
              "RET ISR           0\n",
              "RET IVA           0\n",
              "Otros          2577\n",
              "TOTAL MX          0\n",
              "TOTAL SAT         0\n",
              "Tipo              0\n",
              "Status            0\n",
              "Poliza          801\n",
              "dtype: int64"
            ]
          },
          "metadata": {},
          "execution_count": 29
        }
      ]
    },
    {
      "cell_type": "code",
      "source": [
        "#Sustituir valores nulos con promedio o media\n",
        "data22[\"TC\"]=data22[\"TC\"].fillna(round(data22[\"TC\"].mean(),1))\n",
        "#Corroboramos valores nulos\n",
        "valores_nulos=data22.isnull().sum()\n",
        "valores_nulos"
      ],
      "metadata": {
        "colab": {
          "base_uri": "https://localhost:8080/"
        },
        "id": "uzPkYphKknKT",
        "outputId": "da89b635-fbc6-407f-c30a-42665761e31c"
      },
      "execution_count": null,
      "outputs": [
        {
          "output_type": "execute_result",
          "data": {
            "text/plain": [
              "Fecha             0\n",
              "Folio             0\n",
              "UUID              0\n",
              "RFC               0\n",
              "Proveedor         0\n",
              "TIPO GASTO        0\n",
              "Descripción       0\n",
              "MP                0\n",
              "TC                0\n",
              "Importe           0\n",
              "IVA               0\n",
              "RET ISR           0\n",
              "RET IVA           0\n",
              "Otros          2577\n",
              "TOTAL MX          0\n",
              "TOTAL SAT         0\n",
              "Tipo              0\n",
              "Status            0\n",
              "Poliza          801\n",
              "dtype: int64"
            ]
          },
          "metadata": {},
          "execution_count": 30
        }
      ]
    },
    {
      "cell_type": "code",
      "source": [
        "#Sustituir valores nulos por un valor numérico en  concreto \n",
        "data22[\"Otros\"]= data22[\"Otros\"].fillna(0) \n",
        "#Corroboramos valores nulos\n",
        "valores_nulos=data22.isnull().sum()\n",
        "valores_nulos"
      ],
      "metadata": {
        "colab": {
          "base_uri": "https://localhost:8080/"
        },
        "id": "ex3JxJPTk6hm",
        "outputId": "260786f0-8a81-4ee8-aea9-2020a82a95cf"
      },
      "execution_count": null,
      "outputs": [
        {
          "output_type": "execute_result",
          "data": {
            "text/plain": [
              "Fecha            0\n",
              "Folio            0\n",
              "UUID             0\n",
              "RFC              0\n",
              "Proveedor        0\n",
              "TIPO GASTO       0\n",
              "Descripción      0\n",
              "MP               0\n",
              "TC               0\n",
              "Importe          0\n",
              "IVA              0\n",
              "RET ISR          0\n",
              "RET IVA          0\n",
              "Otros            0\n",
              "TOTAL MX         0\n",
              "TOTAL SAT        0\n",
              "Tipo             0\n",
              "Status           0\n",
              "Poliza         801\n",
              "dtype: int64"
            ]
          },
          "metadata": {},
          "execution_count": 31
        }
      ]
    },
    {
      "cell_type": "code",
      "source": [
        "#Sustituir valores nulos por un valor numérico en  concreto \n",
        "data22[\"Poliza\"]= data22[\"Poliza\"].fillna('SIN POLIZA') \n",
        "#Corroboramos valores nulos\n",
        "valores_nulos=data22.isnull().sum()\n",
        "valores_nulos"
      ],
      "metadata": {
        "colab": {
          "base_uri": "https://localhost:8080/"
        },
        "id": "5FEM23GLlFuN",
        "outputId": "7881e683-75fb-4730-a854-744594bf50e7"
      },
      "execution_count": null,
      "outputs": [
        {
          "output_type": "execute_result",
          "data": {
            "text/plain": [
              "Fecha          0\n",
              "Folio          0\n",
              "UUID           0\n",
              "RFC            0\n",
              "Proveedor      0\n",
              "TIPO GASTO     0\n",
              "Descripción    0\n",
              "MP             0\n",
              "TC             0\n",
              "Importe        0\n",
              "IVA            0\n",
              "RET ISR        0\n",
              "RET IVA        0\n",
              "Otros          0\n",
              "TOTAL MX       0\n",
              "TOTAL SAT      0\n",
              "Tipo           0\n",
              "Status         0\n",
              "Poliza         0\n",
              "dtype: int64"
            ]
          },
          "metadata": {},
          "execution_count": 32
        }
      ]
    },
    {
      "cell_type": "markdown",
      "source": [
        "# 2023"
      ],
      "metadata": {
        "id": "kLIbwZ-WlrUl"
      }
    },
    {
      "cell_type": "code",
      "source": [
        "#Carga desde un archivo\n",
        "gastosycostos2023= pd.read_excel('Gastos y costos 20-23.xlsx', sheet_name='2023',)\n",
        "gastosycostos2023"
      ],
      "metadata": {
        "colab": {
          "base_uri": "https://localhost:8080/",
          "height": 1000
        },
        "id": "fZV97MroltGq",
        "outputId": "7099d9e6-c91d-4a51-c927-301007680029"
      },
      "execution_count": null,
      "outputs": [
        {
          "output_type": "execute_result",
          "data": {
            "text/plain": [
              "         Fecha       Folio                                  UUID  \\\n",
              "0   2023-01-01          31  49536321-60A4-523E-A32F-E8BDF5C2276E   \n",
              "1   2023-01-01          38  20FBB63B-D550-512F-9668-EEC6F983CEB7   \n",
              "2   2023-01-01      341932  DB8C4388-D4E0-4F0C-A09C-77C773257F44   \n",
              "3   2023-01-01      341933  A81A63F5-D5EC-4601-803E-375AF9CC5021   \n",
              "4   2023-01-01      342205  DCC10492-DE51-4C87-8430-5676FBF81931   \n",
              "..         ...         ...                                   ...   \n",
              "392 2023-02-01      882974  3E97C399-6747-4BCA-8436-ED4B0933DF33   \n",
              "393 2023-02-01      053560  B7132758-F800-4797-B1D6-CC61AFFEE444   \n",
              "394 2023-02-01  1092957089  D1E2DC1E-9FFB-46C6-82E4-B350B83CB6F7   \n",
              "395 2023-02-01     1453820  6249FE27-6FA6-4EFB-910E-3CD67A0E29A1   \n",
              "396 2023-02-01          18  439A9230-277E-5563-818C-7630B0E8D706   \n",
              "\n",
              "              RFC                                          Proveedor  \\\n",
              "0    AAE6411055P8                          AESA ARTICULOS ELECTRICOS   \n",
              "1    AAE6411055P8                          AESA ARTICULOS ELECTRICOS   \n",
              "2    BLE1512082R9                       BEPENSA LEASING S.A. DE C.V.   \n",
              "3    BLE1512082R9                       BEPENSA LEASING S.A. DE C.V.   \n",
              "4    BLE1512082R9                       BEPENSA LEASING S.A. DE C.V.   \n",
              "..            ...                                                ...   \n",
              "392  BIN940223KE0  BANCO INVEX, S.A., INSTITUCION DE BANCA MULTIP...   \n",
              "393  BPU7901018D4                                BEBIDAS PURIFICADAS   \n",
              "394  BMN930209927  BANCO MERCANTIL DEL NORTE SA INSTITUCION DE BA...   \n",
              "395  EFE8908015L3                      EFECTIVALE S. de R.L. de C.V.   \n",
              "396  AAE6411055P8                          AESA ARTICULOS ELECTRICOS   \n",
              "\n",
              "                   TIPO GASTO  \\\n",
              "0                     COMPRAS   \n",
              "1                     COMPRAS   \n",
              "2    ARRENDAMIENTO FINANCIERO   \n",
              "3    ARRENDAMIENTO FINANCIERO   \n",
              "4    ARRENDAMIENTO FINANCIERO   \n",
              "..                        ...   \n",
              "392         COMISION BANCARIA   \n",
              "393                 ALIMENTOS   \n",
              "394         COMISION BANCARIA   \n",
              "395                  GASOLINA   \n",
              "396                   COMPRAS   \n",
              "\n",
              "                                           Descripción   MP    FP   TC  \\\n",
              "0                                                 Pago  NaN   NaN  1.0   \n",
              "1                                                 Pago  NaN   NaN  1.0   \n",
              "2    AA RENTA EXIGIBLE CL0000006876 30/36 de 03/12/...  PPD  99.0  1.0   \n",
              "3    AA RENTA EXIGIBLE CL0000006877 30/36 de 03/12/...  PPD  99.0  1.0   \n",
              "4    AA RENTA EXIGIBLE CL0000009486 5/48 de 03/12/2...  PPD  99.0  1.0   \n",
              "..                                                 ...  ...   ...  ...   \n",
              "392                             COMISIONES E INTERESES  PUE   3.0  1.0   \n",
              "393                         Epura 20 Lts Policarbonato  PUE   1.0  1.0   \n",
              "394                                SERVICIOS BANCARIOS  PUE   3.0  1.0   \n",
              "395  CONSUMOS DE COMBUSTIBLE DE MONEDEROS ELECTRONICOS  PUE   5.0  1.0   \n",
              "396                                               Pago  NaN   NaN  1.0   \n",
              "\n",
              "      Importe      IVA  RET ISR  RET IVA  Otros  TOTAL MX  TOTAL SAT Tipo  \\\n",
              "0        0.00     0.00      0.0      0.0    NaN      0.00       0.00    P   \n",
              "1        0.00     0.00      0.0      0.0    NaN      0.00       0.00    P   \n",
              "2     5551.38   888.22      0.0      0.0    NaN   6439.60    6439.60    I   \n",
              "3     5551.98   888.32      0.0      0.0    NaN   6440.30    6440.30    I   \n",
              "4     8454.37  1352.70      0.0      0.0    NaN   9807.07    9807.07    I   \n",
              "..        ...      ...      ...      ...    ...       ...        ...  ...   \n",
              "392      0.00     0.00      0.0      0.0    NaN      0.00       0.00    I   \n",
              "393    220.00     0.00      0.0      0.0    NaN    220.00     220.00    I   \n",
              "394  18071.52   682.40      0.0      0.0    NaN  18753.92   18753.92    I   \n",
              "395  14472.32     0.00      0.0      0.0    NaN  14472.32   14472.32    I   \n",
              "396      0.00     0.00      0.0      0.0    NaN      0.00       0.00    P   \n",
              "\n",
              "      Status      Poliza  \n",
              "0    Vigente         NaN  \n",
              "1    Vigente         NaN  \n",
              "2    Vigente  PE01-ENE23  \n",
              "3    Vigente  PE02-ENE23  \n",
              "4    Vigente  PE03-ENE23  \n",
              "..       ...         ...  \n",
              "392  Vigente         NaN  \n",
              "393  Vigente         NaN  \n",
              "394  Vigente         NaN  \n",
              "395  Vigente         NaN  \n",
              "396  Vigente         NaN  \n",
              "\n",
              "[397 rows x 20 columns]"
            ],
            "text/html": [
              "\n",
              "  <div id=\"df-c75eae99-fa48-42c4-b67c-1e45f407cc54\">\n",
              "    <div class=\"colab-df-container\">\n",
              "      <div>\n",
              "<style scoped>\n",
              "    .dataframe tbody tr th:only-of-type {\n",
              "        vertical-align: middle;\n",
              "    }\n",
              "\n",
              "    .dataframe tbody tr th {\n",
              "        vertical-align: top;\n",
              "    }\n",
              "\n",
              "    .dataframe thead th {\n",
              "        text-align: right;\n",
              "    }\n",
              "</style>\n",
              "<table border=\"1\" class=\"dataframe\">\n",
              "  <thead>\n",
              "    <tr style=\"text-align: right;\">\n",
              "      <th></th>\n",
              "      <th>Fecha</th>\n",
              "      <th>Folio</th>\n",
              "      <th>UUID</th>\n",
              "      <th>RFC</th>\n",
              "      <th>Proveedor</th>\n",
              "      <th>TIPO GASTO</th>\n",
              "      <th>Descripción</th>\n",
              "      <th>MP</th>\n",
              "      <th>FP</th>\n",
              "      <th>TC</th>\n",
              "      <th>Importe</th>\n",
              "      <th>IVA</th>\n",
              "      <th>RET ISR</th>\n",
              "      <th>RET IVA</th>\n",
              "      <th>Otros</th>\n",
              "      <th>TOTAL MX</th>\n",
              "      <th>TOTAL SAT</th>\n",
              "      <th>Tipo</th>\n",
              "      <th>Status</th>\n",
              "      <th>Poliza</th>\n",
              "    </tr>\n",
              "  </thead>\n",
              "  <tbody>\n",
              "    <tr>\n",
              "      <th>0</th>\n",
              "      <td>2023-01-01</td>\n",
              "      <td>31</td>\n",
              "      <td>49536321-60A4-523E-A32F-E8BDF5C2276E</td>\n",
              "      <td>AAE6411055P8</td>\n",
              "      <td>AESA ARTICULOS ELECTRICOS</td>\n",
              "      <td>COMPRAS</td>\n",
              "      <td>Pago</td>\n",
              "      <td>NaN</td>\n",
              "      <td>NaN</td>\n",
              "      <td>1.0</td>\n",
              "      <td>0.00</td>\n",
              "      <td>0.00</td>\n",
              "      <td>0.0</td>\n",
              "      <td>0.0</td>\n",
              "      <td>NaN</td>\n",
              "      <td>0.00</td>\n",
              "      <td>0.00</td>\n",
              "      <td>P</td>\n",
              "      <td>Vigente</td>\n",
              "      <td>NaN</td>\n",
              "    </tr>\n",
              "    <tr>\n",
              "      <th>1</th>\n",
              "      <td>2023-01-01</td>\n",
              "      <td>38</td>\n",
              "      <td>20FBB63B-D550-512F-9668-EEC6F983CEB7</td>\n",
              "      <td>AAE6411055P8</td>\n",
              "      <td>AESA ARTICULOS ELECTRICOS</td>\n",
              "      <td>COMPRAS</td>\n",
              "      <td>Pago</td>\n",
              "      <td>NaN</td>\n",
              "      <td>NaN</td>\n",
              "      <td>1.0</td>\n",
              "      <td>0.00</td>\n",
              "      <td>0.00</td>\n",
              "      <td>0.0</td>\n",
              "      <td>0.0</td>\n",
              "      <td>NaN</td>\n",
              "      <td>0.00</td>\n",
              "      <td>0.00</td>\n",
              "      <td>P</td>\n",
              "      <td>Vigente</td>\n",
              "      <td>NaN</td>\n",
              "    </tr>\n",
              "    <tr>\n",
              "      <th>2</th>\n",
              "      <td>2023-01-01</td>\n",
              "      <td>341932</td>\n",
              "      <td>DB8C4388-D4E0-4F0C-A09C-77C773257F44</td>\n",
              "      <td>BLE1512082R9</td>\n",
              "      <td>BEPENSA LEASING S.A. DE C.V.</td>\n",
              "      <td>ARRENDAMIENTO FINANCIERO</td>\n",
              "      <td>AA RENTA EXIGIBLE CL0000006876 30/36 de 03/12/...</td>\n",
              "      <td>PPD</td>\n",
              "      <td>99.0</td>\n",
              "      <td>1.0</td>\n",
              "      <td>5551.38</td>\n",
              "      <td>888.22</td>\n",
              "      <td>0.0</td>\n",
              "      <td>0.0</td>\n",
              "      <td>NaN</td>\n",
              "      <td>6439.60</td>\n",
              "      <td>6439.60</td>\n",
              "      <td>I</td>\n",
              "      <td>Vigente</td>\n",
              "      <td>PE01-ENE23</td>\n",
              "    </tr>\n",
              "    <tr>\n",
              "      <th>3</th>\n",
              "      <td>2023-01-01</td>\n",
              "      <td>341933</td>\n",
              "      <td>A81A63F5-D5EC-4601-803E-375AF9CC5021</td>\n",
              "      <td>BLE1512082R9</td>\n",
              "      <td>BEPENSA LEASING S.A. DE C.V.</td>\n",
              "      <td>ARRENDAMIENTO FINANCIERO</td>\n",
              "      <td>AA RENTA EXIGIBLE CL0000006877 30/36 de 03/12/...</td>\n",
              "      <td>PPD</td>\n",
              "      <td>99.0</td>\n",
              "      <td>1.0</td>\n",
              "      <td>5551.98</td>\n",
              "      <td>888.32</td>\n",
              "      <td>0.0</td>\n",
              "      <td>0.0</td>\n",
              "      <td>NaN</td>\n",
              "      <td>6440.30</td>\n",
              "      <td>6440.30</td>\n",
              "      <td>I</td>\n",
              "      <td>Vigente</td>\n",
              "      <td>PE02-ENE23</td>\n",
              "    </tr>\n",
              "    <tr>\n",
              "      <th>4</th>\n",
              "      <td>2023-01-01</td>\n",
              "      <td>342205</td>\n",
              "      <td>DCC10492-DE51-4C87-8430-5676FBF81931</td>\n",
              "      <td>BLE1512082R9</td>\n",
              "      <td>BEPENSA LEASING S.A. DE C.V.</td>\n",
              "      <td>ARRENDAMIENTO FINANCIERO</td>\n",
              "      <td>AA RENTA EXIGIBLE CL0000009486 5/48 de 03/12/2...</td>\n",
              "      <td>PPD</td>\n",
              "      <td>99.0</td>\n",
              "      <td>1.0</td>\n",
              "      <td>8454.37</td>\n",
              "      <td>1352.70</td>\n",
              "      <td>0.0</td>\n",
              "      <td>0.0</td>\n",
              "      <td>NaN</td>\n",
              "      <td>9807.07</td>\n",
              "      <td>9807.07</td>\n",
              "      <td>I</td>\n",
              "      <td>Vigente</td>\n",
              "      <td>PE03-ENE23</td>\n",
              "    </tr>\n",
              "    <tr>\n",
              "      <th>...</th>\n",
              "      <td>...</td>\n",
              "      <td>...</td>\n",
              "      <td>...</td>\n",
              "      <td>...</td>\n",
              "      <td>...</td>\n",
              "      <td>...</td>\n",
              "      <td>...</td>\n",
              "      <td>...</td>\n",
              "      <td>...</td>\n",
              "      <td>...</td>\n",
              "      <td>...</td>\n",
              "      <td>...</td>\n",
              "      <td>...</td>\n",
              "      <td>...</td>\n",
              "      <td>...</td>\n",
              "      <td>...</td>\n",
              "      <td>...</td>\n",
              "      <td>...</td>\n",
              "      <td>...</td>\n",
              "      <td>...</td>\n",
              "    </tr>\n",
              "    <tr>\n",
              "      <th>392</th>\n",
              "      <td>2023-02-01</td>\n",
              "      <td>882974</td>\n",
              "      <td>3E97C399-6747-4BCA-8436-ED4B0933DF33</td>\n",
              "      <td>BIN940223KE0</td>\n",
              "      <td>BANCO INVEX, S.A., INSTITUCION DE BANCA MULTIP...</td>\n",
              "      <td>COMISION BANCARIA</td>\n",
              "      <td>COMISIONES E INTERESES</td>\n",
              "      <td>PUE</td>\n",
              "      <td>3.0</td>\n",
              "      <td>1.0</td>\n",
              "      <td>0.00</td>\n",
              "      <td>0.00</td>\n",
              "      <td>0.0</td>\n",
              "      <td>0.0</td>\n",
              "      <td>NaN</td>\n",
              "      <td>0.00</td>\n",
              "      <td>0.00</td>\n",
              "      <td>I</td>\n",
              "      <td>Vigente</td>\n",
              "      <td>NaN</td>\n",
              "    </tr>\n",
              "    <tr>\n",
              "      <th>393</th>\n",
              "      <td>2023-02-01</td>\n",
              "      <td>053560</td>\n",
              "      <td>B7132758-F800-4797-B1D6-CC61AFFEE444</td>\n",
              "      <td>BPU7901018D4</td>\n",
              "      <td>BEBIDAS PURIFICADAS</td>\n",
              "      <td>ALIMENTOS</td>\n",
              "      <td>Epura 20 Lts Policarbonato</td>\n",
              "      <td>PUE</td>\n",
              "      <td>1.0</td>\n",
              "      <td>1.0</td>\n",
              "      <td>220.00</td>\n",
              "      <td>0.00</td>\n",
              "      <td>0.0</td>\n",
              "      <td>0.0</td>\n",
              "      <td>NaN</td>\n",
              "      <td>220.00</td>\n",
              "      <td>220.00</td>\n",
              "      <td>I</td>\n",
              "      <td>Vigente</td>\n",
              "      <td>NaN</td>\n",
              "    </tr>\n",
              "    <tr>\n",
              "      <th>394</th>\n",
              "      <td>2023-02-01</td>\n",
              "      <td>1092957089</td>\n",
              "      <td>D1E2DC1E-9FFB-46C6-82E4-B350B83CB6F7</td>\n",
              "      <td>BMN930209927</td>\n",
              "      <td>BANCO MERCANTIL DEL NORTE SA INSTITUCION DE BA...</td>\n",
              "      <td>COMISION BANCARIA</td>\n",
              "      <td>SERVICIOS BANCARIOS</td>\n",
              "      <td>PUE</td>\n",
              "      <td>3.0</td>\n",
              "      <td>1.0</td>\n",
              "      <td>18071.52</td>\n",
              "      <td>682.40</td>\n",
              "      <td>0.0</td>\n",
              "      <td>0.0</td>\n",
              "      <td>NaN</td>\n",
              "      <td>18753.92</td>\n",
              "      <td>18753.92</td>\n",
              "      <td>I</td>\n",
              "      <td>Vigente</td>\n",
              "      <td>NaN</td>\n",
              "    </tr>\n",
              "    <tr>\n",
              "      <th>395</th>\n",
              "      <td>2023-02-01</td>\n",
              "      <td>1453820</td>\n",
              "      <td>6249FE27-6FA6-4EFB-910E-3CD67A0E29A1</td>\n",
              "      <td>EFE8908015L3</td>\n",
              "      <td>EFECTIVALE S. de R.L. de C.V.</td>\n",
              "      <td>GASOLINA</td>\n",
              "      <td>CONSUMOS DE COMBUSTIBLE DE MONEDEROS ELECTRONICOS</td>\n",
              "      <td>PUE</td>\n",
              "      <td>5.0</td>\n",
              "      <td>1.0</td>\n",
              "      <td>14472.32</td>\n",
              "      <td>0.00</td>\n",
              "      <td>0.0</td>\n",
              "      <td>0.0</td>\n",
              "      <td>NaN</td>\n",
              "      <td>14472.32</td>\n",
              "      <td>14472.32</td>\n",
              "      <td>I</td>\n",
              "      <td>Vigente</td>\n",
              "      <td>NaN</td>\n",
              "    </tr>\n",
              "    <tr>\n",
              "      <th>396</th>\n",
              "      <td>2023-02-01</td>\n",
              "      <td>18</td>\n",
              "      <td>439A9230-277E-5563-818C-7630B0E8D706</td>\n",
              "      <td>AAE6411055P8</td>\n",
              "      <td>AESA ARTICULOS ELECTRICOS</td>\n",
              "      <td>COMPRAS</td>\n",
              "      <td>Pago</td>\n",
              "      <td>NaN</td>\n",
              "      <td>NaN</td>\n",
              "      <td>1.0</td>\n",
              "      <td>0.00</td>\n",
              "      <td>0.00</td>\n",
              "      <td>0.0</td>\n",
              "      <td>0.0</td>\n",
              "      <td>NaN</td>\n",
              "      <td>0.00</td>\n",
              "      <td>0.00</td>\n",
              "      <td>P</td>\n",
              "      <td>Vigente</td>\n",
              "      <td>NaN</td>\n",
              "    </tr>\n",
              "  </tbody>\n",
              "</table>\n",
              "<p>397 rows × 20 columns</p>\n",
              "</div>\n",
              "      <button class=\"colab-df-convert\" onclick=\"convertToInteractive('df-c75eae99-fa48-42c4-b67c-1e45f407cc54')\"\n",
              "              title=\"Convert this dataframe to an interactive table.\"\n",
              "              style=\"display:none;\">\n",
              "        \n",
              "  <svg xmlns=\"http://www.w3.org/2000/svg\" height=\"24px\"viewBox=\"0 0 24 24\"\n",
              "       width=\"24px\">\n",
              "    <path d=\"M0 0h24v24H0V0z\" fill=\"none\"/>\n",
              "    <path d=\"M18.56 5.44l.94 2.06.94-2.06 2.06-.94-2.06-.94-.94-2.06-.94 2.06-2.06.94zm-11 1L8.5 8.5l.94-2.06 2.06-.94-2.06-.94L8.5 2.5l-.94 2.06-2.06.94zm10 10l.94 2.06.94-2.06 2.06-.94-2.06-.94-.94-2.06-.94 2.06-2.06.94z\"/><path d=\"M17.41 7.96l-1.37-1.37c-.4-.4-.92-.59-1.43-.59-.52 0-1.04.2-1.43.59L10.3 9.45l-7.72 7.72c-.78.78-.78 2.05 0 2.83L4 21.41c.39.39.9.59 1.41.59.51 0 1.02-.2 1.41-.59l7.78-7.78 2.81-2.81c.8-.78.8-2.07 0-2.86zM5.41 20L4 18.59l7.72-7.72 1.47 1.35L5.41 20z\"/>\n",
              "  </svg>\n",
              "      </button>\n",
              "      \n",
              "  <style>\n",
              "    .colab-df-container {\n",
              "      display:flex;\n",
              "      flex-wrap:wrap;\n",
              "      gap: 12px;\n",
              "    }\n",
              "\n",
              "    .colab-df-convert {\n",
              "      background-color: #E8F0FE;\n",
              "      border: none;\n",
              "      border-radius: 50%;\n",
              "      cursor: pointer;\n",
              "      display: none;\n",
              "      fill: #1967D2;\n",
              "      height: 32px;\n",
              "      padding: 0 0 0 0;\n",
              "      width: 32px;\n",
              "    }\n",
              "\n",
              "    .colab-df-convert:hover {\n",
              "      background-color: #E2EBFA;\n",
              "      box-shadow: 0px 1px 2px rgba(60, 64, 67, 0.3), 0px 1px 3px 1px rgba(60, 64, 67, 0.15);\n",
              "      fill: #174EA6;\n",
              "    }\n",
              "\n",
              "    [theme=dark] .colab-df-convert {\n",
              "      background-color: #3B4455;\n",
              "      fill: #D2E3FC;\n",
              "    }\n",
              "\n",
              "    [theme=dark] .colab-df-convert:hover {\n",
              "      background-color: #434B5C;\n",
              "      box-shadow: 0px 1px 3px 1px rgba(0, 0, 0, 0.15);\n",
              "      filter: drop-shadow(0px 1px 2px rgba(0, 0, 0, 0.3));\n",
              "      fill: #FFFFFF;\n",
              "    }\n",
              "  </style>\n",
              "\n",
              "      <script>\n",
              "        const buttonEl =\n",
              "          document.querySelector('#df-c75eae99-fa48-42c4-b67c-1e45f407cc54 button.colab-df-convert');\n",
              "        buttonEl.style.display =\n",
              "          google.colab.kernel.accessAllowed ? 'block' : 'none';\n",
              "\n",
              "        async function convertToInteractive(key) {\n",
              "          const element = document.querySelector('#df-c75eae99-fa48-42c4-b67c-1e45f407cc54');\n",
              "          const dataTable =\n",
              "            await google.colab.kernel.invokeFunction('convertToInteractive',\n",
              "                                                     [key], {});\n",
              "          if (!dataTable) return;\n",
              "\n",
              "          const docLinkHtml = 'Like what you see? Visit the ' +\n",
              "            '<a target=\"_blank\" href=https://colab.research.google.com/notebooks/data_table.ipynb>data table notebook</a>'\n",
              "            + ' to learn more about interactive tables.';\n",
              "          element.innerHTML = '';\n",
              "          dataTable['output_type'] = 'display_data';\n",
              "          await google.colab.output.renderOutput(dataTable, element);\n",
              "          const docLink = document.createElement('div');\n",
              "          docLink.innerHTML = docLinkHtml;\n",
              "          element.appendChild(docLink);\n",
              "        }\n",
              "      </script>\n",
              "    </div>\n",
              "  </div>\n",
              "  "
            ]
          },
          "metadata": {},
          "execution_count": 33
        }
      ]
    },
    {
      "cell_type": "code",
      "source": [
        "#Identificar valores nulos por columna\n",
        "valores_nulos=gastosycostos2023.isnull().sum()\n",
        "valores_nulos"
      ],
      "metadata": {
        "colab": {
          "base_uri": "https://localhost:8080/"
        },
        "id": "E7V8oEEmlv-J",
        "outputId": "cd79495a-c209-40b5-c488-0b9bd273b8d1"
      },
      "execution_count": null,
      "outputs": [
        {
          "output_type": "execute_result",
          "data": {
            "text/plain": [
              "Fecha            0\n",
              "Folio           13\n",
              "UUID             0\n",
              "RFC              0\n",
              "Proveedor        0\n",
              "TIPO GASTO       8\n",
              "Descripción      0\n",
              "MP              71\n",
              "FP              71\n",
              "TC               0\n",
              "Importe          0\n",
              "IVA              0\n",
              "RET ISR          0\n",
              "RET IVA          0\n",
              "Otros          397\n",
              "TOTAL MX         0\n",
              "TOTAL SAT        0\n",
              "Tipo             0\n",
              "Status           0\n",
              "Poliza         115\n",
              "dtype: int64"
            ]
          },
          "metadata": {},
          "execution_count": 34
        }
      ]
    },
    {
      "cell_type": "code",
      "source": [
        "#Identificar valores nulos por dataframe\n",
        "valores_nulos=gastosycostos2023.isnull().sum().sum()\n",
        "valores_nulos"
      ],
      "metadata": {
        "colab": {
          "base_uri": "https://localhost:8080/"
        },
        "id": "ntustN5zl96X",
        "outputId": "9bde182b-2f1c-44c9-f69a-2411121a8193"
      },
      "execution_count": null,
      "outputs": [
        {
          "output_type": "execute_result",
          "data": {
            "text/plain": [
              "675"
            ]
          },
          "metadata": {},
          "execution_count": 35
        }
      ]
    },
    {
      "cell_type": "markdown",
      "source": [
        "### **Métodos de Sustitución de Valores Nulos**"
      ],
      "metadata": {
        "id": "d2_61he7mQ46"
      }
    },
    {
      "cell_type": "code",
      "source": [
        "#Realizamos una copia del dataframe\n",
        "data23=gastosycostos2023.copy()"
      ],
      "metadata": {
        "id": "R0ZV02BamZJi"
      },
      "execution_count": null,
      "outputs": []
    },
    {
      "cell_type": "code",
      "source": [
        "#Corroboramos valores nulos\n",
        "valores_nulos=data23.isnull().sum()\n",
        "valores_nulos"
      ],
      "metadata": {
        "colab": {
          "base_uri": "https://localhost:8080/"
        },
        "id": "6I0MLWNKmZTS",
        "outputId": "52efc075-2050-4220-989b-a7e5bc4c5e53"
      },
      "execution_count": null,
      "outputs": [
        {
          "output_type": "execute_result",
          "data": {
            "text/plain": [
              "Fecha            0\n",
              "Folio           13\n",
              "UUID             0\n",
              "RFC              0\n",
              "Proveedor        0\n",
              "TIPO GASTO       8\n",
              "Descripción      0\n",
              "MP              71\n",
              "FP              71\n",
              "TC               0\n",
              "Importe          0\n",
              "IVA              0\n",
              "RET ISR          0\n",
              "RET IVA          0\n",
              "Otros          397\n",
              "TOTAL MX         0\n",
              "TOTAL SAT        0\n",
              "Tipo             0\n",
              "Status           0\n",
              "Poliza         115\n",
              "dtype: int64"
            ]
          },
          "metadata": {},
          "execution_count": 37
        }
      ]
    },
    {
      "cell_type": "code",
      "source": [
        "#Sustituir valores nulos por un valor numérico en  concreto \n",
        "data23[\"Folio\"]= data23[\"Folio\"].fillna(0) \n",
        "#Corroboramos valores nulos\n",
        "valores_nulos=data23.isnull().sum()\n",
        "valores_nulos"
      ],
      "metadata": {
        "colab": {
          "base_uri": "https://localhost:8080/"
        },
        "id": "M_Jpio2Xmeyo",
        "outputId": "f82f8ce1-819f-4ad3-9788-60ceac2c5494"
      },
      "execution_count": null,
      "outputs": [
        {
          "output_type": "execute_result",
          "data": {
            "text/plain": [
              "Fecha            0\n",
              "Folio            0\n",
              "UUID             0\n",
              "RFC              0\n",
              "Proveedor        0\n",
              "TIPO GASTO       8\n",
              "Descripción      0\n",
              "MP              71\n",
              "FP              71\n",
              "TC               0\n",
              "Importe          0\n",
              "IVA              0\n",
              "RET ISR          0\n",
              "RET IVA          0\n",
              "Otros          397\n",
              "TOTAL MX         0\n",
              "TOTAL SAT        0\n",
              "Tipo             0\n",
              "Status           0\n",
              "Poliza         115\n",
              "dtype: int64"
            ]
          },
          "metadata": {},
          "execution_count": 38
        }
      ]
    },
    {
      "cell_type": "code",
      "source": [
        "#Sustituir valores nulos por un valor numérico en  concreto \n",
        "data23[\"TIPO GASTO\"]= data23[\"TIPO GASTO\"].fillna('OTRO') \n",
        "#Corroboramos valores nulos\n",
        "valores_nulos=data23.isnull().sum()\n",
        "valores_nulos"
      ],
      "metadata": {
        "colab": {
          "base_uri": "https://localhost:8080/"
        },
        "id": "TYgdqmNgnc8l",
        "outputId": "d9f6e41d-cc43-4f3d-9030-47d88c0136ff"
      },
      "execution_count": null,
      "outputs": [
        {
          "output_type": "execute_result",
          "data": {
            "text/plain": [
              "Fecha            0\n",
              "Folio            0\n",
              "UUID             0\n",
              "RFC              0\n",
              "Proveedor        0\n",
              "TIPO GASTO       0\n",
              "Descripción      0\n",
              "MP              71\n",
              "FP              71\n",
              "TC               0\n",
              "Importe          0\n",
              "IVA              0\n",
              "RET ISR          0\n",
              "RET IVA          0\n",
              "Otros          397\n",
              "TOTAL MX         0\n",
              "TOTAL SAT        0\n",
              "Tipo             0\n",
              "Status           0\n",
              "Poliza         115\n",
              "dtype: int64"
            ]
          },
          "metadata": {},
          "execution_count": 39
        }
      ]
    },
    {
      "cell_type": "code",
      "source": [
        "#Sustituir valores nulos por un valor numérico en  concreto \n",
        "data23[\"MP\"]= data23[\"MP\"].fillna('PUE') \n",
        "#Corroboramos valores nulos\n",
        "valores_nulos=data23.isnull().sum()\n",
        "valores_nulos"
      ],
      "metadata": {
        "colab": {
          "base_uri": "https://localhost:8080/"
        },
        "id": "iX2Az8Wxmvxp",
        "outputId": "1595fb1d-b57e-407c-d7b5-8539ac3e0d2e"
      },
      "execution_count": null,
      "outputs": [
        {
          "output_type": "execute_result",
          "data": {
            "text/plain": [
              "Fecha            0\n",
              "Folio            0\n",
              "UUID             0\n",
              "RFC              0\n",
              "Proveedor        0\n",
              "TIPO GASTO       0\n",
              "Descripción      0\n",
              "MP               0\n",
              "FP              71\n",
              "TC               0\n",
              "Importe          0\n",
              "IVA              0\n",
              "RET ISR          0\n",
              "RET IVA          0\n",
              "Otros          397\n",
              "TOTAL MX         0\n",
              "TOTAL SAT        0\n",
              "Tipo             0\n",
              "Status           0\n",
              "Poliza         115\n",
              "dtype: int64"
            ]
          },
          "metadata": {},
          "execution_count": 40
        }
      ]
    },
    {
      "cell_type": "code",
      "source": [
        "#Sustituir valores nulos con mediana\n",
        "data23[\"FP\"]=data23[\"FP\"].fillna(round(data23[\"FP\"].median(),1))\n",
        "#Corroboramos valores nulos\n",
        "valores_nulos=data23.isnull().sum()\n",
        "valores_nulos"
      ],
      "metadata": {
        "colab": {
          "base_uri": "https://localhost:8080/"
        },
        "id": "DdihDay5m67X",
        "outputId": "a4b53225-d783-4766-c4fa-9f98cb8c7af5"
      },
      "execution_count": null,
      "outputs": [
        {
          "output_type": "execute_result",
          "data": {
            "text/plain": [
              "Fecha            0\n",
              "Folio            0\n",
              "UUID             0\n",
              "RFC              0\n",
              "Proveedor        0\n",
              "TIPO GASTO       0\n",
              "Descripción      0\n",
              "MP               0\n",
              "FP               0\n",
              "TC               0\n",
              "Importe          0\n",
              "IVA              0\n",
              "RET ISR          0\n",
              "RET IVA          0\n",
              "Otros          397\n",
              "TOTAL MX         0\n",
              "TOTAL SAT        0\n",
              "Tipo             0\n",
              "Status           0\n",
              "Poliza         115\n",
              "dtype: int64"
            ]
          },
          "metadata": {},
          "execution_count": 41
        }
      ]
    },
    {
      "cell_type": "code",
      "source": [
        "#Sustituir valores nulos por un valor numérico en  concreto \n",
        "data23[\"Otros\"]= data23[\"Otros\"].fillna(0) \n",
        "#Corroboramos valores nulos\n",
        "valores_nulos=data23.isnull().sum()\n",
        "valores_nulos"
      ],
      "metadata": {
        "colab": {
          "base_uri": "https://localhost:8080/"
        },
        "id": "vep0QWIjnsAo",
        "outputId": "67eeaefb-f092-48ba-f609-f376e4cdcc13"
      },
      "execution_count": null,
      "outputs": [
        {
          "output_type": "execute_result",
          "data": {
            "text/plain": [
              "Fecha            0\n",
              "Folio            0\n",
              "UUID             0\n",
              "RFC              0\n",
              "Proveedor        0\n",
              "TIPO GASTO       0\n",
              "Descripción      0\n",
              "MP               0\n",
              "FP               0\n",
              "TC               0\n",
              "Importe          0\n",
              "IVA              0\n",
              "RET ISR          0\n",
              "RET IVA          0\n",
              "Otros            0\n",
              "TOTAL MX         0\n",
              "TOTAL SAT        0\n",
              "Tipo             0\n",
              "Status           0\n",
              "Poliza         115\n",
              "dtype: int64"
            ]
          },
          "metadata": {},
          "execution_count": 42
        }
      ]
    },
    {
      "cell_type": "code",
      "source": [
        "#Sustituir valores nulos por un valor numérico en  concreto \n",
        "data22[\"Poliza\"]= data22[\"Poliza\"].fillna('SIN POLIZA') \n",
        "#Corroboramos valores nulos\n",
        "valores_nulos=data22.isnull().sum()\n",
        "valores_nulos"
      ],
      "metadata": {
        "colab": {
          "base_uri": "https://localhost:8080/"
        },
        "id": "CWbX4sFioGCF",
        "outputId": "72c7069b-89bf-40ef-dbcd-542c28d8e813"
      },
      "execution_count": null,
      "outputs": [
        {
          "output_type": "execute_result",
          "data": {
            "text/plain": [
              "Fecha          0\n",
              "Folio          0\n",
              "UUID           0\n",
              "RFC            0\n",
              "Proveedor      0\n",
              "TIPO GASTO     0\n",
              "Descripción    0\n",
              "MP             0\n",
              "TC             0\n",
              "Importe        0\n",
              "IVA            0\n",
              "RET ISR        0\n",
              "RET IVA        0\n",
              "Otros          0\n",
              "TOTAL MX       0\n",
              "TOTAL SAT      0\n",
              "Tipo           0\n",
              "Status         0\n",
              "Poliza         0\n",
              "dtype: int64"
            ]
          },
          "metadata": {},
          "execution_count": 43
        }
      ]
    },
    {
      "cell_type": "markdown",
      "source": [
        "# **Convertir DataSet sin valores nulos a CSV**"
      ],
      "metadata": {
        "id": "9PHnleetS3qA"
      }
    },
    {
      "cell_type": "code",
      "source": [
        "#Convertir DataFrame a CSV\n",
        "data20.to_csv(\"Gastos_y_costos_2020_sin_nulos.csv\")\n",
        "data21.to_csv(\"Gastos_y_costos_2021_sin_nulos.csv\")\n",
        "data22.to_csv(\"Gastos_y_costos_2022_sin_nulos.csv\")\n",
        "data23.to_csv(\"Gastos_y_costos_2023_sin_nulos.csv\")"
      ],
      "metadata": {
        "id": "aRLKT_8TS5__"
      },
      "execution_count": null,
      "outputs": []
    },
    {
      "cell_type": "code",
      "source": [
        "#descargar archivo filtrado en csv\n",
        "from google.colab import files \n",
        "files.download(\"Gastos_y_costos_2020_sin_nulos.csv\")\n",
        "from google.colab import files \n",
        "files.download(\"Gastos_y_costos_2021_sin_nulos.csv\")\n",
        "from google.colab import files \n",
        "files.download(\"Gastos_y_costos_2022_sin_nulos.csv\") \n",
        "from google.colab import files \n",
        "files.download(\"Gastos_y_costos_2023_sin_nulos.csv\")"
      ],
      "metadata": {
        "id": "3vDbAM6OTAuv",
        "colab": {
          "base_uri": "https://localhost:8080/",
          "height": 17
        },
        "outputId": "eac78e61-bdbe-482e-d0d7-5703e7a835e8"
      },
      "execution_count": null,
      "outputs": [
        {
          "output_type": "display_data",
          "data": {
            "text/plain": [
              "<IPython.core.display.Javascript object>"
            ],
            "application/javascript": [
              "\n",
              "    async function download(id, filename, size) {\n",
              "      if (!google.colab.kernel.accessAllowed) {\n",
              "        return;\n",
              "      }\n",
              "      const div = document.createElement('div');\n",
              "      const label = document.createElement('label');\n",
              "      label.textContent = `Downloading \"${filename}\": `;\n",
              "      div.appendChild(label);\n",
              "      const progress = document.createElement('progress');\n",
              "      progress.max = size;\n",
              "      div.appendChild(progress);\n",
              "      document.body.appendChild(div);\n",
              "\n",
              "      const buffers = [];\n",
              "      let downloaded = 0;\n",
              "\n",
              "      const channel = await google.colab.kernel.comms.open(id);\n",
              "      // Send a message to notify the kernel that we're ready.\n",
              "      channel.send({})\n",
              "\n",
              "      for await (const message of channel.messages) {\n",
              "        // Send a message to notify the kernel that we're ready.\n",
              "        channel.send({})\n",
              "        if (message.buffers) {\n",
              "          for (const buffer of message.buffers) {\n",
              "            buffers.push(buffer);\n",
              "            downloaded += buffer.byteLength;\n",
              "            progress.value = downloaded;\n",
              "          }\n",
              "        }\n",
              "      }\n",
              "      const blob = new Blob(buffers, {type: 'application/binary'});\n",
              "      const a = document.createElement('a');\n",
              "      a.href = window.URL.createObjectURL(blob);\n",
              "      a.download = filename;\n",
              "      div.appendChild(a);\n",
              "      a.click();\n",
              "      div.remove();\n",
              "    }\n",
              "  "
            ]
          },
          "metadata": {}
        },
        {
          "output_type": "display_data",
          "data": {
            "text/plain": [
              "<IPython.core.display.Javascript object>"
            ],
            "application/javascript": [
              "download(\"download_49c23c6b-12e7-47dc-9f0e-5cd33b7ee58a\", \"Gastos_y_costos_2020_sin_nulos.csv\", 733055)"
            ]
          },
          "metadata": {}
        },
        {
          "output_type": "display_data",
          "data": {
            "text/plain": [
              "<IPython.core.display.Javascript object>"
            ],
            "application/javascript": [
              "\n",
              "    async function download(id, filename, size) {\n",
              "      if (!google.colab.kernel.accessAllowed) {\n",
              "        return;\n",
              "      }\n",
              "      const div = document.createElement('div');\n",
              "      const label = document.createElement('label');\n",
              "      label.textContent = `Downloading \"${filename}\": `;\n",
              "      div.appendChild(label);\n",
              "      const progress = document.createElement('progress');\n",
              "      progress.max = size;\n",
              "      div.appendChild(progress);\n",
              "      document.body.appendChild(div);\n",
              "\n",
              "      const buffers = [];\n",
              "      let downloaded = 0;\n",
              "\n",
              "      const channel = await google.colab.kernel.comms.open(id);\n",
              "      // Send a message to notify the kernel that we're ready.\n",
              "      channel.send({})\n",
              "\n",
              "      for await (const message of channel.messages) {\n",
              "        // Send a message to notify the kernel that we're ready.\n",
              "        channel.send({})\n",
              "        if (message.buffers) {\n",
              "          for (const buffer of message.buffers) {\n",
              "            buffers.push(buffer);\n",
              "            downloaded += buffer.byteLength;\n",
              "            progress.value = downloaded;\n",
              "          }\n",
              "        }\n",
              "      }\n",
              "      const blob = new Blob(buffers, {type: 'application/binary'});\n",
              "      const a = document.createElement('a');\n",
              "      a.href = window.URL.createObjectURL(blob);\n",
              "      a.download = filename;\n",
              "      div.appendChild(a);\n",
              "      a.click();\n",
              "      div.remove();\n",
              "    }\n",
              "  "
            ]
          },
          "metadata": {}
        },
        {
          "output_type": "display_data",
          "data": {
            "text/plain": [
              "<IPython.core.display.Javascript object>"
            ],
            "application/javascript": [
              "download(\"download_a1daf821-048f-4a67-8ff6-f21917d1ff91\", \"Gastos_y_costos_2021_sin_nulos.csv\", 634891)"
            ]
          },
          "metadata": {}
        },
        {
          "output_type": "display_data",
          "data": {
            "text/plain": [
              "<IPython.core.display.Javascript object>"
            ],
            "application/javascript": [
              "\n",
              "    async function download(id, filename, size) {\n",
              "      if (!google.colab.kernel.accessAllowed) {\n",
              "        return;\n",
              "      }\n",
              "      const div = document.createElement('div');\n",
              "      const label = document.createElement('label');\n",
              "      label.textContent = `Downloading \"${filename}\": `;\n",
              "      div.appendChild(label);\n",
              "      const progress = document.createElement('progress');\n",
              "      progress.max = size;\n",
              "      div.appendChild(progress);\n",
              "      document.body.appendChild(div);\n",
              "\n",
              "      const buffers = [];\n",
              "      let downloaded = 0;\n",
              "\n",
              "      const channel = await google.colab.kernel.comms.open(id);\n",
              "      // Send a message to notify the kernel that we're ready.\n",
              "      channel.send({})\n",
              "\n",
              "      for await (const message of channel.messages) {\n",
              "        // Send a message to notify the kernel that we're ready.\n",
              "        channel.send({})\n",
              "        if (message.buffers) {\n",
              "          for (const buffer of message.buffers) {\n",
              "            buffers.push(buffer);\n",
              "            downloaded += buffer.byteLength;\n",
              "            progress.value = downloaded;\n",
              "          }\n",
              "        }\n",
              "      }\n",
              "      const blob = new Blob(buffers, {type: 'application/binary'});\n",
              "      const a = document.createElement('a');\n",
              "      a.href = window.URL.createObjectURL(blob);\n",
              "      a.download = filename;\n",
              "      div.appendChild(a);\n",
              "      a.click();\n",
              "      div.remove();\n",
              "    }\n",
              "  "
            ]
          },
          "metadata": {}
        },
        {
          "output_type": "display_data",
          "data": {
            "text/plain": [
              "<IPython.core.display.Javascript object>"
            ],
            "application/javascript": [
              "download(\"download_bbb1d339-e034-415a-ba9e-8d3577029c68\", \"Gastos_y_costos_2022_sin_nulos.csv\", 568620)"
            ]
          },
          "metadata": {}
        },
        {
          "output_type": "display_data",
          "data": {
            "text/plain": [
              "<IPython.core.display.Javascript object>"
            ],
            "application/javascript": [
              "\n",
              "    async function download(id, filename, size) {\n",
              "      if (!google.colab.kernel.accessAllowed) {\n",
              "        return;\n",
              "      }\n",
              "      const div = document.createElement('div');\n",
              "      const label = document.createElement('label');\n",
              "      label.textContent = `Downloading \"${filename}\": `;\n",
              "      div.appendChild(label);\n",
              "      const progress = document.createElement('progress');\n",
              "      progress.max = size;\n",
              "      div.appendChild(progress);\n",
              "      document.body.appendChild(div);\n",
              "\n",
              "      const buffers = [];\n",
              "      let downloaded = 0;\n",
              "\n",
              "      const channel = await google.colab.kernel.comms.open(id);\n",
              "      // Send a message to notify the kernel that we're ready.\n",
              "      channel.send({})\n",
              "\n",
              "      for await (const message of channel.messages) {\n",
              "        // Send a message to notify the kernel that we're ready.\n",
              "        channel.send({})\n",
              "        if (message.buffers) {\n",
              "          for (const buffer of message.buffers) {\n",
              "            buffers.push(buffer);\n",
              "            downloaded += buffer.byteLength;\n",
              "            progress.value = downloaded;\n",
              "          }\n",
              "        }\n",
              "      }\n",
              "      const blob = new Blob(buffers, {type: 'application/binary'});\n",
              "      const a = document.createElement('a');\n",
              "      a.href = window.URL.createObjectURL(blob);\n",
              "      a.download = filename;\n",
              "      div.appendChild(a);\n",
              "      a.click();\n",
              "      div.remove();\n",
              "    }\n",
              "  "
            ]
          },
          "metadata": {}
        },
        {
          "output_type": "display_data",
          "data": {
            "text/plain": [
              "<IPython.core.display.Javascript object>"
            ],
            "application/javascript": [
              "download(\"download_e8e61290-7ae1-458d-b8d6-e036ba41abb8\", \"Gastos_y_costos_2023_sin_nulos.csv\", 87627)"
            ]
          },
          "metadata": {}
        }
      ]
    }
  ]
}